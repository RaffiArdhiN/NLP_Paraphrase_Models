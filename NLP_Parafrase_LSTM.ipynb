{
  "cells": [
    {
      "cell_type": "code",
      "execution_count": 1,
      "metadata": {
        "id": "QFzpcpPlC3_b"
      },
      "outputs": [],
      "source": [
        "import pandas as pd\n",
        "import numpy as np\n",
        "from sklearn.model_selection import train_test_split\n",
        "from tensorflow.keras.preprocessing.text import Tokenizer\n",
        "from tensorflow.keras.preprocessing.sequence import pad_sequences\n",
        "from tensorflow.keras.models import Sequential\n",
        "from tensorflow.keras.layers import Embedding, LSTM, Dense, Dropout\n",
        "from tensorflow.keras.optimizers import Adam\n",
        "from tensorflow.keras.callbacks import EarlyStopping, ModelCheckpoint\n",
        "import matplotlib.pyplot as plt\n",
        "import seaborn as sns\n",
        "from nltk.translate.bleu_score import sentence_bleu, SmoothingFunction\n",
        "import time"
      ]
    },
    {
      "cell_type": "code",
      "execution_count": 2,
      "metadata": {
        "colab": {
          "base_uri": "https://localhost:8080/"
        },
        "id": "zx6SvT3U89V2",
        "outputId": "bec9c933-f5f4-480e-95f3-8d70439397b1"
      },
      "outputs": [
        {
          "output_type": "stream",
          "name": "stdout",
          "text": [
            "Mounted at /content/drive\n"
          ]
        }
      ],
      "source": [
        "from google.colab import drive\n",
        "drive.mount('/content/drive')"
      ]
    },
    {
      "cell_type": "code",
      "execution_count": 3,
      "metadata": {
        "id": "YnnYaC_xDF5f"
      },
      "outputs": [],
      "source": [
        "data = pd.read_csv('/content/drive/MyDrive/Colab Notebooks/ID_Quora_Paraphrasing_train.csv')\n",
        "df = pd.DataFrame(data)"
      ]
    },
    {
      "cell_type": "code",
      "execution_count": 4,
      "metadata": {
        "colab": {
          "base_uri": "https://localhost:8080/"
        },
        "id": "ZOTSRPYeEFcp",
        "outputId": "cbefaa10-03e6-4724-c436-368d99e4a705"
      },
      "outputs": [
        {
          "output_type": "stream",
          "name": "stdout",
          "text": [
            "<class 'pandas.core.frame.DataFrame'>\n",
            "RangeIndex: 134084 entries, 0 to 134083\n",
            "Data columns (total 2 columns):\n",
            " #   Column      Non-Null Count   Dtype \n",
            "---  ------      --------------   ----- \n",
            " 0   question_1  134084 non-null  object\n",
            " 1   question_2  134084 non-null  object\n",
            "dtypes: object(2)\n",
            "memory usage: 2.0+ MB\n"
          ]
        }
      ],
      "source": [
        "df.info()"
      ]
    },
    {
      "cell_type": "code",
      "execution_count": 5,
      "metadata": {
        "colab": {
          "base_uri": "https://localhost:8080/",
          "height": 226
        },
        "id": "Ye3dJwfOEP-e",
        "outputId": "a34155cf-e7aa-4a26-da52-c0ed385b18c6"
      },
      "outputs": [
        {
          "output_type": "execute_result",
          "data": {
            "text/plain": [
              "                                          question_1  \\\n",
              "0  Apa beberapa teknik yoga yang baik untuk menur...   \n",
              "1                      Bagaimana musik memicu emosi?   \n",
              "2  Apa beberapa contoh bagaimana data dan informa...   \n",
              "3  Haruskah saya menggunakan papan ouija? Apakah ...   \n",
              "4  Apa saja hal-hal yang orang awam tahu tetapi j...   \n",
              "\n",
              "                                          question_2  \n",
              "0       Apa asana yoga untuk menurunkan berat badan?  \n",
              "1  Mengapa musik bertanggung jawab untuk memicu e...  \n",
              "2  Apa perbedaan antara data dan informasi dengan...  \n",
              "3  Apakah Papan Ouija benar-benar memanggil roh? ...  \n",
              "4  Apa yang diketahui oleh jutawan bahwa orang bi...  "
            ],
            "text/html": [
              "\n",
              "  <div id=\"df-d50680c7-47bd-47da-9449-8fc0fdc95226\" class=\"colab-df-container\">\n",
              "    <div>\n",
              "<style scoped>\n",
              "    .dataframe tbody tr th:only-of-type {\n",
              "        vertical-align: middle;\n",
              "    }\n",
              "\n",
              "    .dataframe tbody tr th {\n",
              "        vertical-align: top;\n",
              "    }\n",
              "\n",
              "    .dataframe thead th {\n",
              "        text-align: right;\n",
              "    }\n",
              "</style>\n",
              "<table border=\"1\" class=\"dataframe\">\n",
              "  <thead>\n",
              "    <tr style=\"text-align: right;\">\n",
              "      <th></th>\n",
              "      <th>question_1</th>\n",
              "      <th>question_2</th>\n",
              "    </tr>\n",
              "  </thead>\n",
              "  <tbody>\n",
              "    <tr>\n",
              "      <th>0</th>\n",
              "      <td>Apa beberapa teknik yoga yang baik untuk menur...</td>\n",
              "      <td>Apa asana yoga untuk menurunkan berat badan?</td>\n",
              "    </tr>\n",
              "    <tr>\n",
              "      <th>1</th>\n",
              "      <td>Bagaimana musik memicu emosi?</td>\n",
              "      <td>Mengapa musik bertanggung jawab untuk memicu e...</td>\n",
              "    </tr>\n",
              "    <tr>\n",
              "      <th>2</th>\n",
              "      <td>Apa beberapa contoh bagaimana data dan informa...</td>\n",
              "      <td>Apa perbedaan antara data dan informasi dengan...</td>\n",
              "    </tr>\n",
              "    <tr>\n",
              "      <th>3</th>\n",
              "      <td>Haruskah saya menggunakan papan ouija? Apakah ...</td>\n",
              "      <td>Apakah Papan Ouija benar-benar memanggil roh? ...</td>\n",
              "    </tr>\n",
              "    <tr>\n",
              "      <th>4</th>\n",
              "      <td>Apa saja hal-hal yang orang awam tahu tetapi j...</td>\n",
              "      <td>Apa yang diketahui oleh jutawan bahwa orang bi...</td>\n",
              "    </tr>\n",
              "  </tbody>\n",
              "</table>\n",
              "</div>\n",
              "    <div class=\"colab-df-buttons\">\n",
              "\n",
              "  <div class=\"colab-df-container\">\n",
              "    <button class=\"colab-df-convert\" onclick=\"convertToInteractive('df-d50680c7-47bd-47da-9449-8fc0fdc95226')\"\n",
              "            title=\"Convert this dataframe to an interactive table.\"\n",
              "            style=\"display:none;\">\n",
              "\n",
              "  <svg xmlns=\"http://www.w3.org/2000/svg\" height=\"24px\" viewBox=\"0 -960 960 960\">\n",
              "    <path d=\"M120-120v-720h720v720H120Zm60-500h600v-160H180v160Zm220 220h160v-160H400v160Zm0 220h160v-160H400v160ZM180-400h160v-160H180v160Zm440 0h160v-160H620v160ZM180-180h160v-160H180v160Zm440 0h160v-160H620v160Z\"/>\n",
              "  </svg>\n",
              "    </button>\n",
              "\n",
              "  <style>\n",
              "    .colab-df-container {\n",
              "      display:flex;\n",
              "      gap: 12px;\n",
              "    }\n",
              "\n",
              "    .colab-df-convert {\n",
              "      background-color: #E8F0FE;\n",
              "      border: none;\n",
              "      border-radius: 50%;\n",
              "      cursor: pointer;\n",
              "      display: none;\n",
              "      fill: #1967D2;\n",
              "      height: 32px;\n",
              "      padding: 0 0 0 0;\n",
              "      width: 32px;\n",
              "    }\n",
              "\n",
              "    .colab-df-convert:hover {\n",
              "      background-color: #E2EBFA;\n",
              "      box-shadow: 0px 1px 2px rgba(60, 64, 67, 0.3), 0px 1px 3px 1px rgba(60, 64, 67, 0.15);\n",
              "      fill: #174EA6;\n",
              "    }\n",
              "\n",
              "    .colab-df-buttons div {\n",
              "      margin-bottom: 4px;\n",
              "    }\n",
              "\n",
              "    [theme=dark] .colab-df-convert {\n",
              "      background-color: #3B4455;\n",
              "      fill: #D2E3FC;\n",
              "    }\n",
              "\n",
              "    [theme=dark] .colab-df-convert:hover {\n",
              "      background-color: #434B5C;\n",
              "      box-shadow: 0px 1px 3px 1px rgba(0, 0, 0, 0.15);\n",
              "      filter: drop-shadow(0px 1px 2px rgba(0, 0, 0, 0.3));\n",
              "      fill: #FFFFFF;\n",
              "    }\n",
              "  </style>\n",
              "\n",
              "    <script>\n",
              "      const buttonEl =\n",
              "        document.querySelector('#df-d50680c7-47bd-47da-9449-8fc0fdc95226 button.colab-df-convert');\n",
              "      buttonEl.style.display =\n",
              "        google.colab.kernel.accessAllowed ? 'block' : 'none';\n",
              "\n",
              "      async function convertToInteractive(key) {\n",
              "        const element = document.querySelector('#df-d50680c7-47bd-47da-9449-8fc0fdc95226');\n",
              "        const dataTable =\n",
              "          await google.colab.kernel.invokeFunction('convertToInteractive',\n",
              "                                                    [key], {});\n",
              "        if (!dataTable) return;\n",
              "\n",
              "        const docLinkHtml = 'Like what you see? Visit the ' +\n",
              "          '<a target=\"_blank\" href=https://colab.research.google.com/notebooks/data_table.ipynb>data table notebook</a>'\n",
              "          + ' to learn more about interactive tables.';\n",
              "        element.innerHTML = '';\n",
              "        dataTable['output_type'] = 'display_data';\n",
              "        await google.colab.output.renderOutput(dataTable, element);\n",
              "        const docLink = document.createElement('div');\n",
              "        docLink.innerHTML = docLinkHtml;\n",
              "        element.appendChild(docLink);\n",
              "      }\n",
              "    </script>\n",
              "  </div>\n",
              "\n",
              "\n",
              "<div id=\"df-09489856-f6a8-4d4d-879c-b91839822867\">\n",
              "  <button class=\"colab-df-quickchart\" onclick=\"quickchart('df-09489856-f6a8-4d4d-879c-b91839822867')\"\n",
              "            title=\"Suggest charts\"\n",
              "            style=\"display:none;\">\n",
              "\n",
              "<svg xmlns=\"http://www.w3.org/2000/svg\" height=\"24px\"viewBox=\"0 0 24 24\"\n",
              "     width=\"24px\">\n",
              "    <g>\n",
              "        <path d=\"M19 3H5c-1.1 0-2 .9-2 2v14c0 1.1.9 2 2 2h14c1.1 0 2-.9 2-2V5c0-1.1-.9-2-2-2zM9 17H7v-7h2v7zm4 0h-2V7h2v10zm4 0h-2v-4h2v4z\"/>\n",
              "    </g>\n",
              "</svg>\n",
              "  </button>\n",
              "\n",
              "<style>\n",
              "  .colab-df-quickchart {\n",
              "      --bg-color: #E8F0FE;\n",
              "      --fill-color: #1967D2;\n",
              "      --hover-bg-color: #E2EBFA;\n",
              "      --hover-fill-color: #174EA6;\n",
              "      --disabled-fill-color: #AAA;\n",
              "      --disabled-bg-color: #DDD;\n",
              "  }\n",
              "\n",
              "  [theme=dark] .colab-df-quickchart {\n",
              "      --bg-color: #3B4455;\n",
              "      --fill-color: #D2E3FC;\n",
              "      --hover-bg-color: #434B5C;\n",
              "      --hover-fill-color: #FFFFFF;\n",
              "      --disabled-bg-color: #3B4455;\n",
              "      --disabled-fill-color: #666;\n",
              "  }\n",
              "\n",
              "  .colab-df-quickchart {\n",
              "    background-color: var(--bg-color);\n",
              "    border: none;\n",
              "    border-radius: 50%;\n",
              "    cursor: pointer;\n",
              "    display: none;\n",
              "    fill: var(--fill-color);\n",
              "    height: 32px;\n",
              "    padding: 0;\n",
              "    width: 32px;\n",
              "  }\n",
              "\n",
              "  .colab-df-quickchart:hover {\n",
              "    background-color: var(--hover-bg-color);\n",
              "    box-shadow: 0 1px 2px rgba(60, 64, 67, 0.3), 0 1px 3px 1px rgba(60, 64, 67, 0.15);\n",
              "    fill: var(--button-hover-fill-color);\n",
              "  }\n",
              "\n",
              "  .colab-df-quickchart-complete:disabled,\n",
              "  .colab-df-quickchart-complete:disabled:hover {\n",
              "    background-color: var(--disabled-bg-color);\n",
              "    fill: var(--disabled-fill-color);\n",
              "    box-shadow: none;\n",
              "  }\n",
              "\n",
              "  .colab-df-spinner {\n",
              "    border: 2px solid var(--fill-color);\n",
              "    border-color: transparent;\n",
              "    border-bottom-color: var(--fill-color);\n",
              "    animation:\n",
              "      spin 1s steps(1) infinite;\n",
              "  }\n",
              "\n",
              "  @keyframes spin {\n",
              "    0% {\n",
              "      border-color: transparent;\n",
              "      border-bottom-color: var(--fill-color);\n",
              "      border-left-color: var(--fill-color);\n",
              "    }\n",
              "    20% {\n",
              "      border-color: transparent;\n",
              "      border-left-color: var(--fill-color);\n",
              "      border-top-color: var(--fill-color);\n",
              "    }\n",
              "    30% {\n",
              "      border-color: transparent;\n",
              "      border-left-color: var(--fill-color);\n",
              "      border-top-color: var(--fill-color);\n",
              "      border-right-color: var(--fill-color);\n",
              "    }\n",
              "    40% {\n",
              "      border-color: transparent;\n",
              "      border-right-color: var(--fill-color);\n",
              "      border-top-color: var(--fill-color);\n",
              "    }\n",
              "    60% {\n",
              "      border-color: transparent;\n",
              "      border-right-color: var(--fill-color);\n",
              "    }\n",
              "    80% {\n",
              "      border-color: transparent;\n",
              "      border-right-color: var(--fill-color);\n",
              "      border-bottom-color: var(--fill-color);\n",
              "    }\n",
              "    90% {\n",
              "      border-color: transparent;\n",
              "      border-bottom-color: var(--fill-color);\n",
              "    }\n",
              "  }\n",
              "</style>\n",
              "\n",
              "  <script>\n",
              "    async function quickchart(key) {\n",
              "      const quickchartButtonEl =\n",
              "        document.querySelector('#' + key + ' button');\n",
              "      quickchartButtonEl.disabled = true;  // To prevent multiple clicks.\n",
              "      quickchartButtonEl.classList.add('colab-df-spinner');\n",
              "      try {\n",
              "        const charts = await google.colab.kernel.invokeFunction(\n",
              "            'suggestCharts', [key], {});\n",
              "      } catch (error) {\n",
              "        console.error('Error during call to suggestCharts:', error);\n",
              "      }\n",
              "      quickchartButtonEl.classList.remove('colab-df-spinner');\n",
              "      quickchartButtonEl.classList.add('colab-df-quickchart-complete');\n",
              "    }\n",
              "    (() => {\n",
              "      let quickchartButtonEl =\n",
              "        document.querySelector('#df-09489856-f6a8-4d4d-879c-b91839822867 button');\n",
              "      quickchartButtonEl.style.display =\n",
              "        google.colab.kernel.accessAllowed ? 'block' : 'none';\n",
              "    })();\n",
              "  </script>\n",
              "</div>\n",
              "\n",
              "    </div>\n",
              "  </div>\n"
            ],
            "application/vnd.google.colaboratory.intrinsic+json": {
              "type": "dataframe",
              "variable_name": "df"
            }
          },
          "metadata": {},
          "execution_count": 5
        }
      ],
      "source": [
        "df.head()"
      ]
    },
    {
      "cell_type": "code",
      "execution_count": 6,
      "metadata": {
        "id": "iLwifjL1C8HP"
      },
      "outputs": [],
      "source": [
        "df['sentence1_length'] = df['question_1'].apply(lambda x: len(x.split()))\n",
        "df['sentence2_length'] = df['question_2'].apply(lambda x: len(x.split()))"
      ]
    },
    {
      "cell_type": "code",
      "execution_count": 7,
      "metadata": {
        "colab": {
          "base_uri": "https://localhost:8080/",
          "height": 578
        },
        "id": "k_OXylp8GiGY",
        "outputId": "09def697-9d90-4aa8-9bda-d0a233aa1106"
      },
      "outputs": [
        {
          "output_type": "display_data",
          "data": {
            "text/plain": [
              "<Figure size 1200x600 with 1 Axes>"
            ],
            "image/png": "[encoded data removed]"
          },
          "metadata": {}
        }
      ],
      "source": [
        "plt.figure(figsize=(12, 6))\n",
        "sns.histplot(df['sentence1_length'], bins=50, kde=True, color='blue', label='sentence1 length')\n",
        "sns.histplot(df['sentence2_length'], bins=50, kde=True, color='green', label='sentence2 length')\n",
        "plt.legend()\n",
        "plt.title('Distribusi Panjang Kalimat (sentence1 dan sentence2)')\n",
        "plt.xlabel('Panjang Kalimat')\n",
        "plt.ylabel('Frekuensi')\n",
        "plt.show()"
      ]
    },
    {
      "cell_type": "code",
      "execution_count": 8,
      "metadata": {
        "id": "Nm6HBVv3Ik6m"
      },
      "outputs": [],
      "source": [
        "X = df['question_1']\n",
        "y = df['question_2']"
      ]
    },
    {
      "cell_type": "code",
      "execution_count": 9,
      "metadata": {
        "colab": {
          "base_uri": "https://localhost:8080/"
        },
        "id": "F8uEH1-CvsdH",
        "outputId": "3e0398ba-31e5-4962-a5f8-5c1299aebfd2"
      },
      "outputs": [
        {
          "output_type": "execute_result",
          "data": {
            "text/plain": [
              "((134084,), (134084,))"
            ]
          },
          "metadata": {},
          "execution_count": 9
        }
      ],
      "source": [
        "X.shape, y.shape"
      ]
    },
    {
      "cell_type": "code",
      "execution_count": 10,
      "metadata": {
        "id": "pwhO0GHh6nm3"
      },
      "outputs": [],
      "source": [
        "X = X[:50000]\n",
        "y = y[:50000]"
      ]
    },
    {
      "cell_type": "code",
      "execution_count": 11,
      "metadata": {
        "colab": {
          "base_uri": "https://localhost:8080/"
        },
        "id": "vaUtSeC76rDl",
        "outputId": "92b130ba-ac7e-4a00-ca5d-b47fa15c6a77"
      },
      "outputs": [
        {
          "output_type": "execute_result",
          "data": {
            "text/plain": [
              "((50000,), (50000,))"
            ]
          },
          "metadata": {},
          "execution_count": 11
        }
      ],
      "source": [
        "X.shape, y.shape"
      ]
    },
    {
      "cell_type": "code",
      "execution_count": 12,
      "metadata": {
        "id": "D8ohLTMlIwHM"
      },
      "outputs": [],
      "source": [
        "X_train, X_test, y_train, y_test = train_test_split(X, y, test_size=0.2, random_state=42)"
      ]
    },
    {
      "cell_type": "code",
      "execution_count": 13,
      "metadata": {
        "colab": {
          "base_uri": "https://localhost:8080/"
        },
        "id": "o8t3f0mJ3TOO",
        "outputId": "9886176b-9e96-4238-f9f7-b29d8a80845f"
      },
      "outputs": [
        {
          "output_type": "execute_result",
          "data": {
            "text/plain": [
              "(40000,)"
            ]
          },
          "metadata": {},
          "execution_count": 13
        }
      ],
      "source": [
        "X_train.shape\n",
        "y_train.shape"
      ]
    },
    {
      "cell_type": "code",
      "execution_count": 14,
      "metadata": {
        "colab": {
          "base_uri": "https://localhost:8080/"
        },
        "id": "KJphv-1t36xK",
        "outputId": "88134e4a-d2f2-4494-cb45-4ab5af18c8e3"
      },
      "outputs": [
        {
          "output_type": "stream",
          "name": "stdout",
          "text": [
            "Shapes after split:\n",
            "X_train: (40000,), y_train: (40000,)\n",
            "X_test: (10000,), y_test: (10000,)\n",
            "y_train sample: 39087    Apakah Anda lebih suka anjing atau kucing dan ...\n",
            "30893    Apakah akan relatif aman untuk bepergian ke Is...\n",
            "45278    Apa yang Anda pikirkan tentang film Rogue One:...\n",
            "16398       Apakah mudah untuk belajar cara bermain gitar?\n",
            "13653    Apa yang harus saya beri nama restoran India b...\n",
            "13748    Bagaimana Anda bisa memperbaiki masalah prokra...\n",
            "23965    yang lebih baik, New York City atau Los Angele...\n",
            "45552    yang merupakan pekerjaan paruh waktu online te...\n",
            "30219                        adalah homoseksualitas alami?\n",
            "24079                        Apa itu reflektor jalan biru?\n",
            "Name: question_2, dtype: object\n"
          ]
        }
      ],
      "source": [
        "print(\"Shapes after split:\")\n",
        "print(f\"X_train: {X_train.shape}, y_train: {y_train.shape}\")\n",
        "print(f\"X_test: {X_test.shape}, y_test: {y_test.shape}\")\n",
        "print(\"y_train sample:\", y_train[:10])  # Sample check"
      ]
    },
    {
      "cell_type": "code",
      "execution_count": 15,
      "metadata": {
        "id": "ev-P1EznIlfZ"
      },
      "outputs": [],
      "source": [
        "tokenizer = Tokenizer(num_words=10000)\n",
        "tokenizer.fit_on_texts(pd.concat([X_train, y_train]).values)  # Menggabungkan kolom untuk kosakata"
      ]
    },
    {
      "cell_type": "code",
      "execution_count": 16,
      "metadata": {
        "id": "__r5W7XOIsh2"
      },
      "outputs": [],
      "source": [
        "X_train_seq = tokenizer.texts_to_sequences(X_train)\n",
        "y_train_seq = tokenizer.texts_to_sequences(y_train)\n",
        "X_test_seq = tokenizer.texts_to_sequences(X_test)\n",
        "y_test_seq = tokenizer.texts_to_sequences(y_test)"
      ]
    },
    {
      "cell_type": "code",
      "execution_count": 17,
      "metadata": {
        "id": "UfsE1z7UKCK2"
      },
      "outputs": [],
      "source": [
        "vocab_size = len(tokenizer.word_index) + 1  # Tambahkan +1 untuk kata yang tidak dikenal\n",
        "embedding_dim = 100\n",
        "max_length = max(\n",
        "    max(len(seq) for seq in X_train_seq), max(len(seq) for seq in y_train_seq)\n",
        ")  # Panjang maksimum dari semua sequence di data train"
      ]
    },
    {
      "cell_type": "code",
      "execution_count": 18,
      "metadata": {
        "id": "owSOCADLIuOl"
      },
      "outputs": [],
      "source": [
        "X_train_padded = pad_sequences(X_train_seq, maxlen=max_length, padding='post', truncating='post')\n",
        "y_train_padded = pad_sequences(y_train_seq, maxlen=max_length, padding='post', truncating='post')\n",
        "X_test_padded = pad_sequences(X_test_seq, maxlen=max_length, padding='post', truncating='post')\n",
        "y_test_padded = pad_sequences(y_test_seq, maxlen=max_length, padding='post', truncating='post')"
      ]
    },
    {
      "cell_type": "code",
      "execution_count": 19,
      "metadata": {
        "colab": {
          "base_uri": "https://localhost:8080/",
          "height": 1000
        },
        "id": "TBgKgxJkJbv3",
        "outputId": "c6c79ca4-402f-4598-ff20-f3ce48b016aa"
      },
      "outputs": [
        {
          "output_type": "stream",
          "name": "stderr",
          "text": [
            "/usr/local/lib/python3.10/dist-packages/keras/src/layers/core/embedding.py:90: UserWarning: Argument `input_length` is deprecated. Just remove it.\n",
            "  warnings.warn(\n"
          ]
        },
        {
          "output_type": "stream",
          "name": "stdout",
          "text": [
            "Epoch 1/15\n",
            "\u001b[1m2000/2000\u001b[0m \u001b[32m━━━━━━━━━━━━━━━━━━━━\u001b[0m\u001b[37m\u001b[0m \u001b[1m0s\u001b[0m 23ms/step - accuracy: 0.7972 - loss: 2.3230\n",
            "Epoch 1: val_accuracy improved from -inf to 0.81311, saving model to best_model_LSTM_0.8131.keras\n",
            "\u001b[1m2000/2000\u001b[0m \u001b[32m━━━━━━━━━━━━━━━━━━━━\u001b[0m\u001b[37m\u001b[0m \u001b[1m63s\u001b[0m 27ms/step - accuracy: 0.7972 - loss: 2.3226 - val_accuracy: 0.8131 - val_loss: 1.3304\n",
            "Epoch 2/15\n",
            "\u001b[1m1999/2000\u001b[0m \u001b[32m━━━━━━━━━━━━━━━━━━━\u001b[0m\u001b[37m━\u001b[0m \u001b[1m0s\u001b[0m 22ms/step - accuracy: 0.8159 - loss: 1.3268\n",
            "Epoch 2: val_accuracy improved from 0.81311 to 0.82486, saving model to best_model_LSTM_0.8249.keras\n",
            "\u001b[1m2000/2000\u001b[0m \u001b[32m━━━━━━━━━━━━━━━━━━━━\u001b[0m\u001b[37m\u001b[0m \u001b[1m75s\u001b[0m 26ms/step - accuracy: 0.8159 - loss: 1.3268 - val_accuracy: 0.8249 - val_loss: 1.2513\n",
            "Epoch 3/15\n",
            "\u001b[1m2000/2000\u001b[0m \u001b[32m━━━━━━━━━━━━━━━━━━━━\u001b[0m\u001b[37m\u001b[0m \u001b[1m0s\u001b[0m 22ms/step - accuracy: 0.8236 - loss: 1.2451\n",
            "Epoch 3: val_accuracy improved from 0.82486 to 0.82849, saving model to best_model_LSTM_0.8285.keras\n",
            "\u001b[1m2000/2000\u001b[0m \u001b[32m━━━━━━━━━━━━━━━━━━━━\u001b[0m\u001b[37m\u001b[0m \u001b[1m85s\u001b[0m 28ms/step - accuracy: 0.8236 - loss: 1.2451 - val_accuracy: 0.8285 - val_loss: 1.1981\n",
            "Epoch 4/15\n",
            "\u001b[1m2000/2000\u001b[0m \u001b[32m━━━━━━━━━━━━━━━━━━━━\u001b[0m\u001b[37m\u001b[0m \u001b[1m0s\u001b[0m 22ms/step - accuracy: 0.8274 - loss: 1.1806\n",
            "Epoch 4: val_accuracy improved from 0.82849 to 0.83043, saving model to best_model_LSTM_0.8304.keras\n",
            "\u001b[1m2000/2000\u001b[0m \u001b[32m━━━━━━━━━━━━━━━━━━━━\u001b[0m\u001b[37m\u001b[0m \u001b[1m82s\u001b[0m 28ms/step - accuracy: 0.8274 - loss: 1.1806 - val_accuracy: 0.8304 - val_loss: 1.1606\n",
            "Epoch 5/15\n",
            "\u001b[1m1999/2000\u001b[0m \u001b[32m━━━━━━━━━━━━━━━━━━━\u001b[0m\u001b[37m━\u001b[0m \u001b[1m0s\u001b[0m 22ms/step - accuracy: 0.8298 - loss: 1.1318\n",
            "Epoch 5: val_accuracy improved from 0.83043 to 0.83241, saving model to best_model_LSTM_0.8324.keras\n",
            "\u001b[1m2000/2000\u001b[0m \u001b[32m━━━━━━━━━━━━━━━━━━━━\u001b[0m\u001b[37m\u001b[0m \u001b[1m52s\u001b[0m 26ms/step - accuracy: 0.8298 - loss: 1.1318 - val_accuracy: 0.8324 - val_loss: 1.1383\n",
            "Epoch 6/15\n",
            "\u001b[1m2000/2000\u001b[0m \u001b[32m━━━━━━━━━━━━━━━━━━━━\u001b[0m\u001b[37m\u001b[0m \u001b[1m0s\u001b[0m 22ms/step - accuracy: 0.8321 - loss: 1.0959\n",
            "Epoch 6: val_accuracy improved from 0.83241 to 0.83283, saving model to best_model_LSTM_0.8328.keras\n",
            "\u001b[1m2000/2000\u001b[0m \u001b[32m━━━━━━━━━━━━━━━━━━━━\u001b[0m\u001b[37m\u001b[0m \u001b[1m52s\u001b[0m 26ms/step - accuracy: 0.8321 - loss: 1.0959 - val_accuracy: 0.8328 - val_loss: 1.1223\n",
            "Epoch 7/15\n",
            "\u001b[1m2000/2000\u001b[0m \u001b[32m━━━━━━━━━━━━━━━━━━━━\u001b[0m\u001b[37m\u001b[0m \u001b[1m0s\u001b[0m 23ms/step - accuracy: 0.8334 - loss: 1.0650\n",
            "Epoch 7: val_accuracy improved from 0.83283 to 0.83428, saving model to best_model_LSTM_0.8343.keras\n",
            "\u001b[1m2000/2000\u001b[0m \u001b[32m━━━━━━━━━━━━━━━━━━━━\u001b[0m\u001b[37m\u001b[0m \u001b[1m83s\u001b[0m 26ms/step - accuracy: 0.8334 - loss: 1.0650 - val_accuracy: 0.8343 - val_loss: 1.1089\n",
            "Epoch 8/15\n",
            "\u001b[1m1998/2000\u001b[0m \u001b[32m━━━━━━━━━━━━━━━━━━━\u001b[0m\u001b[37m━\u001b[0m \u001b[1m0s\u001b[0m 23ms/step - accuracy: 0.8356 - loss: 1.0325\n",
            "Epoch 8: val_accuracy improved from 0.83428 to 0.83470, saving model to best_model_LSTM_0.8347.keras\n",
            "\u001b[1m2000/2000\u001b[0m \u001b[32m━━━━━━━━━━━━━━━━━━━━\u001b[0m\u001b[37m\u001b[0m \u001b[1m82s\u001b[0m 27ms/step - accuracy: 0.8356 - loss: 1.0325 - val_accuracy: 0.8347 - val_loss: 1.1005\n",
            "Epoch 9/15\n",
            "\u001b[1m1999/2000\u001b[0m \u001b[32m━━━━━━━━━━━━━━━━━━━\u001b[0m\u001b[37m━\u001b[0m \u001b[1m0s\u001b[0m 23ms/step - accuracy: 0.8357 - loss: 1.0129\n",
            "Epoch 9: val_accuracy improved from 0.83470 to 0.83476, saving model to best_model_LSTM_0.8348.keras\n",
            "\u001b[1m2000/2000\u001b[0m \u001b[32m━━━━━━━━━━━━━━━━━━━━\u001b[0m\u001b[37m\u001b[0m \u001b[1m82s\u001b[0m 27ms/step - accuracy: 0.8357 - loss: 1.0129 - val_accuracy: 0.8348 - val_loss: 1.0944\n",
            "Epoch 10/15\n",
            "\u001b[1m1998/2000\u001b[0m \u001b[32m━━━━━━━━━━━━━━━━━━━\u001b[0m\u001b[37m━\u001b[0m \u001b[1m0s\u001b[0m 23ms/step - accuracy: 0.8373 - loss: 0.9910\n",
            "Epoch 10: val_accuracy improved from 0.83476 to 0.83603, saving model to best_model_LSTM_0.8360.keras\n",
            "\u001b[1m2000/2000\u001b[0m \u001b[32m━━━━━━━━━━━━━━━━━━━━\u001b[0m\u001b[37m\u001b[0m \u001b[1m56s\u001b[0m 28ms/step - accuracy: 0.8373 - loss: 0.9910 - val_accuracy: 0.8360 - val_loss: 1.0956\n",
            "Epoch 11/15\n",
            "\u001b[1m2000/2000\u001b[0m \u001b[32m━━━━━━━━━━━━━━━━━━━━\u001b[0m\u001b[37m\u001b[0m \u001b[1m0s\u001b[0m 23ms/step - accuracy: 0.8385 - loss: 0.9706\n",
            "Epoch 11: val_accuracy improved from 0.83603 to 0.83612, saving model to best_model_LSTM_0.8361.keras\n",
            "\u001b[1m2000/2000\u001b[0m \u001b[32m━━━━━━━━━━━━━━━━━━━━\u001b[0m\u001b[37m\u001b[0m \u001b[1m83s\u001b[0m 29ms/step - accuracy: 0.8385 - loss: 0.9706 - val_accuracy: 0.8361 - val_loss: 1.0823\n",
            "Epoch 12/15\n",
            "\u001b[1m2000/2000\u001b[0m \u001b[32m━━━━━━━━━━━━━━━━━━━━\u001b[0m\u001b[37m\u001b[0m \u001b[1m0s\u001b[0m 23ms/step - accuracy: 0.8393 - loss: 0.9547\n",
            "Epoch 12: val_accuracy improved from 0.83612 to 0.83695, saving model to best_model_LSTM_0.8370.keras\n",
            "\u001b[1m2000/2000\u001b[0m \u001b[32m━━━━━━━━━━━━━━━━━━━━\u001b[0m\u001b[37m\u001b[0m \u001b[1m81s\u001b[0m 28ms/step - accuracy: 0.8393 - loss: 0.9547 - val_accuracy: 0.8370 - val_loss: 1.0844\n",
            "Epoch 13/15\n",
            "\u001b[1m1998/2000\u001b[0m \u001b[32m━━━━━━━━━━━━━━━━━━━\u001b[0m\u001b[37m━\u001b[0m \u001b[1m0s\u001b[0m 23ms/step - accuracy: 0.8396 - loss: 0.9433\n",
            "Epoch 13: val_accuracy did not improve from 0.83695\n",
            "\u001b[1m2000/2000\u001b[0m \u001b[32m━━━━━━━━━━━━━━━━━━━━\u001b[0m\u001b[37m\u001b[0m \u001b[1m56s\u001b[0m 28ms/step - accuracy: 0.8396 - loss: 0.9433 - val_accuracy: 0.8368 - val_loss: 1.0811\n",
            "Epoch 14/15\n",
            "\u001b[1m1998/2000\u001b[0m \u001b[32m━━━━━━━━━━━━━━━━━━━\u001b[0m\u001b[37m━\u001b[0m \u001b[1m0s\u001b[0m 23ms/step - accuracy: 0.8411 - loss: 0.9213\n",
            "Epoch 14: val_accuracy did not improve from 0.83695\n",
            "\u001b[1m2000/2000\u001b[0m \u001b[32m━━━━━━━━━━━━━━━━━━━━\u001b[0m\u001b[37m\u001b[0m \u001b[1m82s\u001b[0m 28ms/step - accuracy: 0.8411 - loss: 0.9213 - val_accuracy: 0.8365 - val_loss: 1.0786\n",
            "Epoch 15/15\n",
            "\u001b[1m2000/2000\u001b[0m \u001b[32m━━━━━━━━━━━━━━━━━━━━\u001b[0m\u001b[37m\u001b[0m \u001b[1m0s\u001b[0m 23ms/step - accuracy: 0.8422 - loss: 0.9083\n",
            "Epoch 15: val_accuracy improved from 0.83695 to 0.83743, saving model to best_model_LSTM_0.8374.keras\n",
            "\u001b[1m2000/2000\u001b[0m \u001b[32m━━━━━━━━━━━━━━━━━━━━\u001b[0m\u001b[37m\u001b[0m \u001b[1m79s\u001b[0m 26ms/step - accuracy: 0.8422 - loss: 0.9083 - val_accuracy: 0.8374 - val_loss: 1.0807\n",
            "Total Training Time: 1122.96 seconds\n"
          ]
        },
        {
          "output_type": "display_data",
          "data": {
            "text/plain": [
              "\u001b[1mModel: \"sequential\"\u001b[0m\n"
            ],
            "text/html": [
              "<pre style=\"white-space:pre;overflow-x:auto;line-height:normal;font-family:Menlo,'DejaVu Sans Mono',consolas,'Courier New',monospace\"><span style=\"font-weight: bold\">Model: \"sequential\"</span>\n",
              "</pre>\n"
            ]
          },
          "metadata": {}
        },
        {
          "output_type": "display_data",
          "data": {
            "text/plain": [
              "┏━━━━━━━━━━━━━━━━━━━━━━━━━━━━━━━━━━━━━━┳━━━━━━━━━━━━━━━━━━━━━━━━━━━━━┳━━━━━━━━━━━━━━━━━┓\n",
              "┃\u001b[1m \u001b[0m\u001b[1mLayer (type)                        \u001b[0m\u001b[1m \u001b[0m┃\u001b[1m \u001b[0m\u001b[1mOutput Shape               \u001b[0m\u001b[1m \u001b[0m┃\u001b[1m \u001b[0m\u001b[1m        Param #\u001b[0m\u001b[1m \u001b[0m┃\n",
              "┡━━━━━━━━━━━━━━━━━━━━━━━━━━━━━━━━━━━━━━╇━━━━━━━━━━━━━━━━━━━━━━━━━━━━━╇━━━━━━━━━━━━━━━━━┩\n",
              "│ embedding (\u001b[38;5;33mEmbedding\u001b[0m)                │ (\u001b[38;5;34m16\u001b[0m, \u001b[38;5;34m43\u001b[0m, \u001b[38;5;34m100\u001b[0m)               │       \u001b[38;5;34m1,613,700\u001b[0m │\n",
              "├──────────────────────────────────────┼─────────────────────────────┼─────────────────┤\n",
              "│ lstm (\u001b[38;5;33mLSTM\u001b[0m)                          │ (\u001b[38;5;34m16\u001b[0m, \u001b[38;5;34m43\u001b[0m, \u001b[38;5;34m64\u001b[0m)                │          \u001b[38;5;34m42,240\u001b[0m │\n",
              "├──────────────────────────────────────┼─────────────────────────────┼─────────────────┤\n",
              "│ dropout (\u001b[38;5;33mDropout\u001b[0m)                    │ (\u001b[38;5;34m16\u001b[0m, \u001b[38;5;34m43\u001b[0m, \u001b[38;5;34m64\u001b[0m)                │               \u001b[38;5;34m0\u001b[0m │\n",
              "├──────────────────────────────────────┼─────────────────────────────┼─────────────────┤\n",
              "│ dense (\u001b[38;5;33mDense\u001b[0m)                        │ (\u001b[38;5;34m16\u001b[0m, \u001b[38;5;34m43\u001b[0m, \u001b[38;5;34m16137\u001b[0m)             │       \u001b[38;5;34m1,048,905\u001b[0m │\n",
              "└──────────────────────────────────────┴─────────────────────────────┴─────────────────┘\n"
            ],
            "text/html": [
              "<pre style=\"white-space:pre;overflow-x:auto;line-height:normal;font-family:Menlo,'DejaVu Sans Mono',consolas,'Courier New',monospace\">┏━━━━━━━━━━━━━━━━━━━━━━━━━━━━━━━━━━━━━━┳━━━━━━━━━━━━━━━━━━━━━━━━━━━━━┳━━━━━━━━━━━━━━━━━┓\n",
              "┃<span style=\"font-weight: bold\"> Layer (type)                         </span>┃<span style=\"font-weight: bold\"> Output Shape                </span>┃<span style=\"font-weight: bold\">         Param # </span>┃\n",
              "┡━━━━━━━━━━━━━━━━━━━━━━━━━━━━━━━━━━━━━━╇━━━━━━━━━━━━━━━━━━━━━━━━━━━━━╇━━━━━━━━━━━━━━━━━┩\n",
              "│ embedding (<span style=\"color: #0087ff; text-decoration-color: #0087ff\">Embedding</span>)                │ (<span style=\"color: #00af00; text-decoration-color: #00af00\">16</span>, <span style=\"color: #00af00; text-decoration-color: #00af00\">43</span>, <span style=\"color: #00af00; text-decoration-color: #00af00\">100</span>)               │       <span style=\"color: #00af00; text-decoration-color: #00af00\">1,613,700</span> │\n",
              "├──────────────────────────────────────┼─────────────────────────────┼─────────────────┤\n",
              "│ lstm (<span style=\"color: #0087ff; text-decoration-color: #0087ff\">LSTM</span>)                          │ (<span style=\"color: #00af00; text-decoration-color: #00af00\">16</span>, <span style=\"color: #00af00; text-decoration-color: #00af00\">43</span>, <span style=\"color: #00af00; text-decoration-color: #00af00\">64</span>)                │          <span style=\"color: #00af00; text-decoration-color: #00af00\">42,240</span> │\n",
              "├──────────────────────────────────────┼─────────────────────────────┼─────────────────┤\n",
              "│ dropout (<span style=\"color: #0087ff; text-decoration-color: #0087ff\">Dropout</span>)                    │ (<span style=\"color: #00af00; text-decoration-color: #00af00\">16</span>, <span style=\"color: #00af00; text-decoration-color: #00af00\">43</span>, <span style=\"color: #00af00; text-decoration-color: #00af00\">64</span>)                │               <span style=\"color: #00af00; text-decoration-color: #00af00\">0</span> │\n",
              "├──────────────────────────────────────┼─────────────────────────────┼─────────────────┤\n",
              "│ dense (<span style=\"color: #0087ff; text-decoration-color: #0087ff\">Dense</span>)                        │ (<span style=\"color: #00af00; text-decoration-color: #00af00\">16</span>, <span style=\"color: #00af00; text-decoration-color: #00af00\">43</span>, <span style=\"color: #00af00; text-decoration-color: #00af00\">16137</span>)             │       <span style=\"color: #00af00; text-decoration-color: #00af00\">1,048,905</span> │\n",
              "└──────────────────────────────────────┴─────────────────────────────┴─────────────────┘\n",
              "</pre>\n"
            ]
          },
          "metadata": {}
        },
        {
          "output_type": "display_data",
          "data": {
            "text/plain": [
              "\u001b[1m Total params: \u001b[0m\u001b[38;5;34m8,114,537\u001b[0m (30.95 MB)\n"
            ],
            "text/html": [
              "<pre style=\"white-space:pre;overflow-x:auto;line-height:normal;font-family:Menlo,'DejaVu Sans Mono',consolas,'Courier New',monospace\"><span style=\"font-weight: bold\"> Total params: </span><span style=\"color: #00af00; text-decoration-color: #00af00\">8,114,537</span> (30.95 MB)\n",
              "</pre>\n"
            ]
          },
          "metadata": {}
        },
        {
          "output_type": "display_data",
          "data": {
            "text/plain": [
              "\u001b[1m Trainable params: \u001b[0m\u001b[38;5;34m2,704,845\u001b[0m (10.32 MB)\n"
            ],
            "text/html": [
              "<pre style=\"white-space:pre;overflow-x:auto;line-height:normal;font-family:Menlo,'DejaVu Sans Mono',consolas,'Courier New',monospace\"><span style=\"font-weight: bold\"> Trainable params: </span><span style=\"color: #00af00; text-decoration-color: #00af00\">2,704,845</span> (10.32 MB)\n",
              "</pre>\n"
            ]
          },
          "metadata": {}
        },
        {
          "output_type": "display_data",
          "data": {
            "text/plain": [
              "\u001b[1m Non-trainable params: \u001b[0m\u001b[38;5;34m0\u001b[0m (0.00 B)\n"
            ],
            "text/html": [
              "<pre style=\"white-space:pre;overflow-x:auto;line-height:normal;font-family:Menlo,'DejaVu Sans Mono',consolas,'Courier New',monospace\"><span style=\"font-weight: bold\"> Non-trainable params: </span><span style=\"color: #00af00; text-decoration-color: #00af00\">0</span> (0.00 B)\n",
              "</pre>\n"
            ]
          },
          "metadata": {}
        },
        {
          "output_type": "display_data",
          "data": {
            "text/plain": [
              "\u001b[1m Optimizer params: \u001b[0m\u001b[38;5;34m5,409,692\u001b[0m (20.64 MB)\n"
            ],
            "text/html": [
              "<pre style=\"white-space:pre;overflow-x:auto;line-height:normal;font-family:Menlo,'DejaVu Sans Mono',consolas,'Courier New',monospace\"><span style=\"font-weight: bold\"> Optimizer params: </span><span style=\"color: #00af00; text-decoration-color: #00af00\">5,409,692</span> (20.64 MB)\n",
              "</pre>\n"
            ]
          },
          "metadata": {}
        }
      ],
      "source": [
        "model = Sequential([\n",
        "    Embedding(input_dim=vocab_size, output_dim=embedding_dim, input_length=max_length),\n",
        "    LSTM(64, return_sequences=True),\n",
        "    Dropout(0.3),\n",
        "    Dense(vocab_size, activation='softmax')\n",
        "])\n",
        "\n",
        "# Compile Model\n",
        "model.compile(optimizer=Adam(learning_rate=0.001), loss='sparse_categorical_crossentropy', metrics=['accuracy'])\n",
        "\n",
        "checkpoint = ModelCheckpoint(\n",
        "    filepath='best_model_LSTM_{val_accuracy:.4f}.keras',  # Filepath to save the model\n",
        "    monitor='val_accuracy',    # Metric to monitor\n",
        "    save_best_only=True,       # Save only the best model\n",
        "    mode='max',                # 'max' because we want the highest val_accuracy\n",
        "    verbose=1\n",
        ")\n",
        "# Early Stopping untuk mencegah overfitting\n",
        "early_stopping = EarlyStopping(monitor='val_loss', patience=3, restore_best_weights=True)\n",
        "\n",
        "start_time = time.time()\n",
        "\n",
        "# Train the Model\n",
        "history = model.fit(X_train_padded, y_train_padded, epochs=15, batch_size=16, validation_split=0.2, callbacks=[early_stopping, checkpoint])\n",
        "\n",
        "end_time = time.time()\n",
        "\n",
        "# Calculate total running time\n",
        "total_time = end_time - start_time\n",
        "print(f\"Total Training Time: {total_time:.2f} seconds\")\n",
        "model.summary()"
      ]
    },
    {
      "cell_type": "code",
      "execution_count": 20,
      "metadata": {
        "colab": {
          "base_uri": "https://localhost:8080/",
          "height": 581
        },
        "id": "Hhg-f3KyJfrj",
        "outputId": "b3c1d010-e4d4-4167-fe17-e17d5583ed35"
      },
      "outputs": [
        {
          "output_type": "display_data",
          "data": {
            "text/plain": [
              "<Figure size 1200x600 with 2 Axes>"
            ],
            "image/png": "[encoded data removed]"
          },
          "metadata": {}
        }
      ],
      "source": [
        "# Plot Training & Validation Accuracy and Loss\n",
        "plt.figure(figsize=(12, 6))\n",
        "\n",
        "# Plot Accuracy\n",
        "plt.subplot(1, 2, 1)\n",
        "plt.plot(history.history['accuracy'], label='Training Accuracy')\n",
        "plt.plot(history.history['val_accuracy'], label='Validation Accuracy')\n",
        "plt.xlabel('Epochs')\n",
        "plt.ylabel('Accuracy')\n",
        "plt.legend()\n",
        "plt.title('Training and Validation Accuracy')\n",
        "\n",
        "# Plot Loss\n",
        "plt.subplot(1, 2, 2)\n",
        "plt.plot(history.history['loss'], label='Training Loss')\n",
        "plt.plot(history.history['val_loss'], label='Validation Loss')\n",
        "plt.xlabel('Epochs')\n",
        "plt.ylabel('Loss')\n",
        "plt.legend()\n",
        "plt.title('Training and Validation Loss')\n",
        "plt.show()"
      ]
    },
    {
      "cell_type": "code",
      "execution_count": 21,
      "metadata": {
        "colab": {
          "base_uri": "https://localhost:8080/"
        },
        "id": "pPuycbTRAsUw",
        "outputId": "488f22a5-e45c-47cb-9cd1-eaac4cb1b7a0"
      },
      "outputs": [
        {
          "output_type": "stream",
          "name": "stdout",
          "text": [
            "Test Loss: 1.0367, Test Accuracy: 0.8394\n",
            "\u001b[1m7/7\u001b[0m \u001b[32m━━━━━━━━━━━━━━━━━━━━\u001b[0m\u001b[37m\u001b[0m \u001b[1m0s\u001b[0m 29ms/step\n"
          ]
        }
      ],
      "source": [
        "import tensorflow as tf\n",
        "\n",
        "# Evaluate model on test set\n",
        "test_loss, test_accuracy = model.evaluate(X_test_padded, y_test_padded, verbose=0, batch_size=8)\n",
        "print(f\"Test Loss: {test_loss:.4f}, Test Accuracy: {test_accuracy:.4f}\")\n",
        "\n",
        "# Predict on test set\n",
        "predictions = model.predict(X_test_padded[:50], batch_size=8)\n",
        "\n",
        "# Convert predictions back to text\n",
        "predicted_sentences = []\n",
        "for pred in predictions:\n",
        "    predicted_indices = np.argmax(pred, axis=-1)\n",
        "    predicted_sentence = ' '.join(\n",
        "        [tokenizer.index_word.get(idx, '') for idx in predicted_indices if idx != 0]\n",
        "    )\n",
        "    predicted_sentences.append(predicted_sentence)\n"
      ]
    },
    {
      "cell_type": "code",
      "source": [
        "\n",
        "smooth = SmoothingFunction()\n",
        "bleu_scores = [\n",
        "    sentence_bleu(\n",
        "        [y_test[:50].iloc[i].split()],  # Reference\n",
        "        predicted_sentences[i].split(),  # Prediction\n",
        "        smoothing_function=smooth.method1\n",
        "    )\n",
        "    for i in range(len(y_test[:50]))\n",
        "]\n",
        "\n",
        "# Average BLEU score\n",
        "average_bleu = np.mean(bleu_scores)\n",
        "print(f\"Average BLEU Score on Test Set: {average_bleu:.4f}\")\n",
        "\n",
        "for i in range(10,20):  # Show 5 samples\n",
        "    input_sentence = X_test.iloc[i]\n",
        "    reference_sentence = y_test.iloc[i]\n",
        "    predicted_sentence = predicted_sentences[i]\n",
        "\n",
        "    # Calculate BLEU score\n",
        "    reference_tokens = [reference_sentence.split()]\n",
        "    predicted_tokens = predicted_sentence.split()\n",
        "    bleu_score = sentence_bleu(reference_tokens, predicted_tokens, smoothing_function=smooth.method1)\n",
        "    bleu_scores.append(bleu_score)\n",
        "\n",
        "    # Display results\n",
        "    print(f\"Input: {input_sentence}\")\n",
        "    print(f\"Reference: {reference_sentence}\")\n",
        "    print(f\"Prediction: {predicted_sentence}\")\n",
        "    print(f\"BLEU Score: {bleu_score:.4f}\")\n",
        "    print(\"-\" * 50)\n",
        "\n",
        "# Calculate and print average BLEU score for the displayed samples\n",
        "average_bleu = sum(bleu_scores) / len(bleu_scores)\n",
        "print(f\"Average BLEU Score for Displayed Samples: {average_bleu:.4f}\")"
      ],
      "metadata": {
        "colab": {
          "base_uri": "https://localhost:8080/"
        },
        "id": "ee3sITFjgZ7h",
        "outputId": "62fab273-3260-4425-b97a-acb8b3766a98"
      },
      "execution_count": 22,
      "outputs": [
        {
          "output_type": "stream",
          "name": "stdout",
          "text": [
            "Average BLEU Score on Test Set: 0.0763\n",
            "Input: Yang merupakan 10 film terbaik 2016 & mengapa?\n",
            "Reference: Apa top 10 film Hindi 2016?\n",
            "Prediction: apa merupakan terbaik film terbaik\n",
            "BLEU Score: 0.0440\n",
            "--------------------------------------------------\n",
            "Input: Jika Universe Expands dan Vacuum Energy dibuat dengannya (tanpa batas), apakah ada energi potensial yang tak terbatas / energi vakum tak terbatas yang dapat dibuat?\n",
            "Reference: Jika energi dibuat dan tidak dilestarikan dalam alam semesta yang berkembang (yang mengembang tanpa batas) dapatkah energi tak terbatas diciptakan?\n",
            "Prediction: jika energi gelap dibuat dibuat dibuat dibuat dibuat energi\n",
            "BLEU Score: 0.0093\n",
            "--------------------------------------------------\n",
            "Input: Topik mana di Quora yang paling populer dan memiliki pengikut terbanyak?\n",
            "Reference: Apa 50 topik dengan pengikut paling banyak di Quora?\n",
            "Prediction: apa mana di di quora paling di\n",
            "BLEU Score: 0.0295\n",
            "--------------------------------------------------\n",
            "Input: Apa itu Kriteria Kelayakan untuk Mendapatkan Kursi Nit Melalui Kuota Ciwg?\n",
            "Reference: Apa kriteria kelayakan untuk mendapatkan kursi NIT melalui kuota CIWG?\n",
            "Prediction: apa itu gelombang\n",
            "BLEU Score: 0.0000\n",
            "--------------------------------------------------\n",
            "Input: Apakah Seinfeld sitkom terbesar yang pernah ada?\n",
            "Reference: Apa saja argumen untuk Seinfeld menjadi salah satu komedi situasi terbesar yang pernah dibuat?\n",
            "Prediction: apakah anda yang yang anda\n",
            "BLEU Score: 0.0089\n",
            "--------------------------------------------------\n",
            "Input: Apakah perjalanan waktu memungkinkan setelah ditemukannya gelombang gravitasi?\n",
            "Reference: Bagaimana mungkin perjalanan waktu?\n",
            "Prediction: apakah perjalanan waktu setelah\n",
            "BLEU Score: 0.0803\n",
            "--------------------------------------------------\n",
            "Input: Perbedaan antara diskonnector dan pemutus sirkuit?\n",
            "Reference: Apa perbedaan utama antara pemotongan dan pemutus sirkuit untuk: a) fungsi yang dimaksud? B) Breaking arus kesalahan?\n",
            "Prediction: bagaimana perbedaan antara dan dan\n",
            "BLEU Score: 0.0064\n",
            "--------------------------------------------------\n",
            "Input: Yang merupakan seri lari terpanjang sampai sekarang?\n",
            "Reference: Apa seri lari terpanjang dalam sejarah televisi?\n",
            "Prediction: apa merupakan terbaik untuk untuk untuk di di\n",
            "BLEU Score: 0.0000\n",
            "--------------------------------------------------\n",
            "Input: Apakah ada keturunan orang Mesir kuno?\n",
            "Reference: Siapa keturunan Mesir Kuno?\n",
            "Prediction: apakah ada bertanggung orang asia terhadap\n",
            "BLEU Score: 0.0000\n",
            "--------------------------------------------------\n",
            "Input: Mengapa Pokemon tidak berfungsi?\n",
            "Reference: Mengapa Pokemon pergi tiba-tiba berhenti bekerja di India?\n",
            "Prediction: mengapa pokemon tidak di\n",
            "BLEU Score: 0.0296\n",
            "--------------------------------------------------\n",
            "Average BLEU Score for Displayed Samples: 0.0671\n"
          ]
        }
      ]
    },
    {
      "cell_type": "markdown",
      "source": [
        "batasssssssssssssssssssssssssss"
      ],
      "metadata": {
        "id": "B24TU2Owg4DP"
      }
    },
    {
      "cell_type": "code",
      "execution_count": null,
      "metadata": {
        "id": "EnSVtD--Koj-"
      },
      "outputs": [],
      "source": [
        "from tensorflow.keras.models import load_model\n",
        "\n",
        "# Memuat model dari file checkpoint\n",
        "model = load_model('/content/drive/MyDrive/best_model_LSTM_0.8361.keras')"
      ]
    },
    {
      "cell_type": "code",
      "execution_count": null,
      "metadata": {
        "id": "2HjKQCSW_2jm"
      },
      "outputs": [],
      "source": [
        "def predict_paraphrase(input_text):\n",
        "    input_seq = tokenizer.texts_to_sequences([input_text])\n",
        "    input_padded = pad_sequences(input_seq, maxlen=max_length, padding='post')\n",
        "    predictions = model.predict(X_test_padded, batch_size=8)\n",
        "    predicted_tokens = np.argmax(prediction, axis=-1)[0]\n",
        "    predicted_text = tokenizer.sequences_to_texts([predicted_tokens])[0]\n",
        "    return predicted_text"
      ]
    },
    {
      "cell_type": "code",
      "execution_count": null,
      "metadata": {
        "id": "DN_6hHuUNFFV"
      },
      "outputs": [],
      "source": [
        "# Preprocessing input\n",
        "input_padded = \"bagaimana cara mempelajari jaringan komputer\"  # Ganti dengan kalimat yang lebih sederhana\n",
        "\n",
        "input_seq = tokenizer.texts_to_sequences([input_padded])\n",
        "input_padded = pad_sequences(input_seq, maxlen=max_length, padding='post')\n",
        "\n",
        "# Menghasilkan prediksi\n",
        "predicted = model.predict(input_padded)\n",
        "\n",
        "# Mengecek output prediksi\n",
        "# print(\"Predicted probabilities:\", predicted)\n",
        "\n",
        "# Ambil kata dengan probabilitas tertinggi untuk setiap langkah\n",
        "predicted_indices = np.argmax(predicted, axis=-1)\n",
        "\n",
        "# Konversi indeks ke kata\n",
        "predicted_words = [tokenizer.index_word.get(index, '') for index in predicted_indices[0]]\n",
        "\n",
        "# Gabungkan kata-kata menjadi satu kalimat\n",
        "parafrase = ' '.join(predicted_words).replace('  ', ' ').strip()\n",
        "\n",
        "print(\"Parafrase:\", parafrase)"
      ]
    },
    {
      "cell_type": "code",
      "execution_count": null,
      "metadata": {
        "id": "rrXQqEHBNqDQ"
      },
      "outputs": [],
      "source": [
        "import nltk\n",
        "# nltk.download('punkt')\n",
        "from nltk.translate.bleu_score import sentence_bleu  # Import BLEU score\n",
        "\n",
        "# Kalimat referensi yang benar (misalnya, kalimat asli atau kalimat parafrase yang diinginkan)\n",
        "reference = \"bagaimana cara belajar jaringan komputer\"  # Ganti dengan kalimat referensi yang sesuai\n",
        "\n",
        "# Menghitung BLEU score\n",
        "reference_tokens = reference.split()  # Tokenisasi kalimat referensi\n",
        "predicted_tokens = parafrase.split()  # Tokenisasi kalimat hasil prediksi\n",
        "\n",
        "# Menghitung BLEU score\n",
        "bleu_score = sentence_bleu([reference_tokens], predicted_tokens)\n",
        "\n",
        "print(\"BLEU Score:\", bleu_score)"
      ]
    },
    {
      "cell_type": "code",
      "execution_count": null,
      "metadata": {
        "id": "1bYjjIzxXmT0"
      },
      "outputs": [],
      "source": [
        "# Menyimpan model\n",
        "# model.save('paraphrase_LSTM_model.h5')\n"
      ]
    },
    {
      "cell_type": "code",
      "execution_count": null,
      "metadata": {
        "id": "aPzTdZRjXyID"
      },
      "outputs": [],
      "source": [
        "datatest = {\n",
        "    'question': [\n",
        "        \"Apa manfaat yoga untuk kesehatan?\",\n",
        "        \"Bagaimana cara membuat kue cokelat?\",\n",
        "        \"Mengapa penting untuk tidur cukup?\",\n",
        "        \"Apa perbedaan antara data dan informasi?\",\n",
        "        \"Apa yang harus dilakukan agar lebih produktif?\",\n",
        "        \"Bagaimana cara menjaga kesehatan jantung?\",\n",
        "        \"Apa saja manfaat belajar bahasa asing?\",\n",
        "        \"Mengapa olahraga penting bagi tubuh?\",\n",
        "        \"Apa itu ekonomi digital?\",\n",
        "        \"Apa yang dimaksud dengan kecerdasan buatan?\"\n",
        "    ],\n",
        "    'reference': [\n",
        "        \"Apa saja manfaat yoga bagi kesehatan tubuh?\",\n",
        "        \"Apa langkah-langkah untuk membuat kue cokelat?\",\n",
        "        \"Mengapa tidur yang cukup sangat penting untuk tubuh?\",\n",
        "        \"Apa yang membedakan antara data dan informasi?\",\n",
        "        \"Apa saja tips agar lebih produktif dalam bekerja?\",\n",
        "        \"Apa yang harus dilakukan untuk menjaga kesehatan jantung?\",\n",
        "        \"Apa keuntungan yang didapatkan dari belajar bahasa asing?\",\n",
        "        \"Apa alasan olahraga sangat penting untuk kesehatan tubuh?\",\n",
        "        \"Bagaimana ekonomi digital memengaruhi kehidupan kita?\",\n",
        "        \"Apa itu AI dan bagaimana cara kerjanya?\"\n",
        "    ]\n",
        "}"
      ]
    },
    {
      "cell_type": "code",
      "execution_count": null,
      "metadata": {
        "id": "ozWYInd5X5Af"
      },
      "outputs": [],
      "source": [
        "# Membuat DataFrame\n",
        "df2 = pd.DataFrame(datatest)\n",
        "\n",
        "# Preprocessing data\n",
        "tokenizer = Tokenizer()\n",
        "tokenizer.fit_on_texts(df2['question'].tolist() + df2['reference'].tolist())  # Gabungkan kedua kolom untuk pelatihan tokenizer\n",
        "max_length = max(df2['question'].apply(lambda x: len(x.split())).max(),\n",
        "                 df2['reference'].apply(lambda x: len(x.split())).max())\n",
        "\n",
        "# Tokenisasi input dan referensi\n",
        "question_seq = tokenizer.texts_to_sequences(df2['question'].tolist())\n",
        "reference_seq = tokenizer.texts_to_sequences(df2['reference'].tolist())\n",
        "\n",
        "question_padded = pad_sequences(question_seq, maxlen=max_length, padding='post')\n",
        "reference_padded = pad_sequences(reference_seq, maxlen=max_length, padding='post')"
      ]
    },
    {
      "cell_type": "code",
      "execution_count": null,
      "metadata": {
        "id": "NaG1cZdkYQTa"
      },
      "outputs": [],
      "source": [
        "# from tensorflow.keras.models import load_model\n",
        "# model = load_model('paraphrase_LSTM_model.h5')#'best_model_LSTM_0.9040.keras')"
      ]
    },
    {
      "cell_type": "code",
      "execution_count": null,
      "metadata": {
        "id": "Qi_R1-f1YdJT"
      },
      "outputs": [],
      "source": [
        "# Fungsi untuk memprediksi parafrase\n",
        "def predict_paraphrase(input_text):\n",
        "    input_seq = tokenizer.texts_to_sequences([input_text])\n",
        "    input_padded = pad_sequences(input_seq, maxlen=max_length, padding='post')\n",
        "    prediction = model.predict(input_padded)\n",
        "\n",
        "    # Ambil prediksi dengan nilai tertinggi (berdasarkan probabilitas)\n",
        "    predicted_tokens = np.argmax(prediction, axis=-1)[0]\n",
        "\n",
        "    # Mengonversi kembali token menjadi teks\n",
        "    predicted_text = tokenizer.sequences_to_texts([predicted_tokens])[0]\n",
        "    return predicted_text\n",
        "\n",
        "# Menggunakan SmoothingFunction untuk BLEU score\n",
        "smoothing = SmoothingFunction().method1\n",
        "\n",
        "# Melakukan prediksi dan menghitung BLEU score untuk setiap kalimat dalam DataFrame\n",
        "for i in range(len(df2)):\n",
        "    input_question = df2['question'][i]\n",
        "    reference_paraphrase = df2['reference'][i]\n",
        "\n",
        "    # Prediksi parafrase\n",
        "    predicted_paraphrase = predict_paraphrase(input_question)\n",
        "\n",
        "    # Tokenisasi referensi dan hasil prediksi untuk BLEU score\n",
        "    reference_tokens = tokenizer.texts_to_sequences([reference_paraphrase])[0]\n",
        "    predicted_tokens = tokenizer.texts_to_sequences([predicted_paraphrase])[0]\n",
        "\n",
        "    # Menghitung BLEU score\n",
        "    bleu_score = sentence_bleu([reference_tokens], predicted_tokens, smoothing_function=smoothing)\n",
        "\n",
        "    # Menampilkan hasil\n",
        "    print(f\"Pertanyaan: {input_question}\")\n",
        "    print(f\"Parafrase yang diprediksi: {predicted_paraphrase}\")\n",
        "    print(f\"Referensi: {reference_paraphrase}\")\n",
        "    print(f\"BLEU score: {bleu_score:.4f}\")\n",
        "    print(\"-\" * 50)"
      ]
    },
    {
      "cell_type": "code",
      "execution_count": null,
      "metadata": {
        "id": "n4PJNFTdCpFh"
      },
      "outputs": [],
      "source": [
        "# Preprocessing input\n",
        "input_padded = \"sehat itu mahal\"  # Ganti dengan kalimat yang lebih sederhana\n",
        "\n",
        "input_seq = tokenizer.texts_to_sequences([input_padded])\n",
        "input_padded = pad_sequences(input_seq, maxlen=max_length, padding='post')\n",
        "\n",
        "# Menghasilkan prediksi\n",
        "predicted = model.predict(input_padded)\n",
        "\n",
        "# Mengecek output prediksi\n",
        "# print(\"Predicted probabilities:\", predicted)\n",
        "\n",
        "# Ambil kata dengan probabilitas tertinggi untuk setiap langkah\n",
        "predicted_indices = np.argmax(predicted, axis=-1)\n",
        "\n",
        "# Konversi indeks ke kata\n",
        "predicted_words = [tokenizer.index_word.get(index, '') for index in predicted_indices[0]]\n",
        "\n",
        "# Gabungkan kata-kata menjadi satu kalimat\n",
        "parafrase = ' '.join(predicted_words).replace('  ', ' ').strip()\n",
        "\n",
        "print(\"Parafrase:\", parafrase)"
      ]
    },
    {
      "cell_type": "code",
      "execution_count": null,
      "metadata": {
        "id": "s_ns-cHwDPu7"
      },
      "outputs": [],
      "source": [
        "# Kalimat referensi yang benar (misalnya, kalimat asli atau kalimat parafrase yang diinginkan)\n",
        "reference = \"kesehatan itu mahal\"  # Ganti dengan kalimat referensi yang sesuai\n",
        "\n",
        "# Menghitung BLEU score\n",
        "reference_tokens = reference.split()  # Tokenisasi kalimat referensi\n",
        "predicted_tokens = parafrase.split()  # Tokenisasi kalimat hasil prediksi\n",
        "\n",
        "# Menghitung BLEU score\n",
        "bleu_score = sentence_bleu([reference_tokens], predicted_tokens)\n",
        "\n",
        "print(\"BLEU Score:\", bleu_score)"
      ]
    },
    {
      "cell_type": "code",
      "execution_count": null,
      "metadata": {
        "id": "zKxkN_cuF81X"
      },
      "outputs": [],
      "source": [
        "# Preprocessing input\n",
        "input_padded = \"kenapa kita harus belajar\"  # Ganti dengan kalimat yang lebih sederhana\n",
        "\n",
        "input_seq = tokenizer.texts_to_sequences([input_padded])\n",
        "input_padded = pad_sequences(input_seq, maxlen=max_length, padding='post')\n",
        "\n",
        "# Menghasilkan prediksi\n",
        "predicted = model.predict(input_padded)\n",
        "\n",
        "# Mengecek output prediksi\n",
        "# print(\"Predicted probabilities:\", predicted)\n",
        "\n",
        "# Ambil kata dengan probabilitas tertinggi untuk setiap langkah\n",
        "predicted_indices = np.argmax(predicted, axis=-1)\n",
        "\n",
        "# Konversi indeks ke kata\n",
        "predicted_words = [tokenizer.index_word.get(index, '') for index in predicted_indices[0]]\n",
        "\n",
        "# Gabungkan kata-kata menjadi satu kalimat\n",
        "parafrase = ' '.join(predicted_words).replace('  ', ' ').strip()\n",
        "\n",
        "print(\"Parafrase:\", parafrase)"
      ]
    },
    {
      "cell_type": "code",
      "execution_count": null,
      "metadata": {
        "id": "NQu00RF_GEFc"
      },
      "outputs": [],
      "source": [
        "# Kalimat referensi yang benar (misalnya, kalimat asli atau kalimat parafrase yang diinginkan)\n",
        "reference = \"mengapa kita harus belajar\"  # Ganti dengan kalimat referensi yang sesuai\n",
        "\n",
        "# Menghitung BLEU score\n",
        "reference_tokens = reference.split()  # Tokenisasi kalimat referensi\n",
        "predicted_tokens = parafrase.split()  # Tokenisasi kalimat hasil prediksi\n",
        "\n",
        "# Menghitung BLEU score\n",
        "bleu_score = sentence_bleu([reference_tokens], predicted_tokens)\n",
        "\n",
        "print(\"BLEU Score:\", bleu_score)"
      ]
    },
    {
      "cell_type": "code",
      "execution_count": null,
      "metadata": {
        "id": "MO5rrXfQGKx4"
      },
      "outputs": [],
      "source": [
        "model = Sequential([\n",
        "    Embedding(input_dim=vocab_size, output_dim=embedding_dim, input_length=max_length),\n",
        "    LSTM(64, return_sequences=True),\n",
        "    Dropout(0.2),\n",
        "    LSTM(128, return_sequences=True),\n",
        "    Dropout(0.2),\n",
        "    Dense(vocab_size, activation='softmax')\n",
        "])\n",
        "\n",
        "# Compile Model\n",
        "model.compile(optimizer=Adam(learning_rate=0.001), loss='sparse_categorical_crossentropy', metrics=['accuracy'])\n",
        "\n",
        "checkpoint = ModelCheckpoint(\n",
        "    filepath='best_model_2_LSTM_{val_accuracy:.4f}.keras',  # Filepath to save the model\n",
        "    monitor='val_accuracy',    # Metric to monitor\n",
        "    save_best_only=True,       # Save only the best model\n",
        "    mode='max',                # 'max' because we want the highest val_accuracy\n",
        "    verbose=1\n",
        ")\n",
        "# Early Stopping untuk mencegah overfitting\n",
        "early_stopping = EarlyStopping(monitor='val_loss', patience=3, restore_best_weights=True)\n",
        "\n",
        "# Train the Model\n",
        "history = model.fit(X_padded, y_padded, epochs=50, batch_size=32, validation_split=0.2, callbacks=[early_stopping, checkpoint])\n",
        "model.summary()"
      ]
    },
    {
      "cell_type": "code",
      "execution_count": null,
      "metadata": {
        "id": "NWvJhZ505ktd"
      },
      "outputs": [],
      "source": [
        "# Melakukan prediksi dan menghitung BLEU score untuk setiap kalimat dalam DataFrame\n",
        "for i in range(len(df2)):\n",
        "    input_question = df2['question'][i]\n",
        "    reference_paraphrase = df2['reference'][i]\n",
        "\n",
        "    # Prediksi parafrase\n",
        "    predicted_paraphrase = predict_paraphrase(input_question)\n",
        "\n",
        "    # Tokenisasi referensi dan hasil prediksi untuk BLEU score\n",
        "    reference_tokens = tokenizer.texts_to_sequences([reference_paraphrase])[0]\n",
        "    predicted_tokens = tokenizer.texts_to_sequences([predicted_paraphrase])[0]\n",
        "\n",
        "    # Menghitung BLEU score\n",
        "    bleu_score = sentence_bleu([reference_tokens], predicted_tokens, smoothing_function=smoothing)\n",
        "\n",
        "    # Menampilkan hasil\n",
        "    print(f\"Pertanyaan: {input_question}\")\n",
        "    print(f\"Parafrase yang diprediksi: {predicted_paraphrase}\")\n",
        "    print(f\"Referensi: {reference_paraphrase}\")\n",
        "    print(f\"BLEU score: {bleu_score:.4f}\")\n",
        "    print(\"-\" * 50)"
      ]
    }
  ],
  "metadata": {
    "accelerator": "GPU",
    "colab": {
      "gpuType": "T4",
      "provenance": []
    },
    "kernelspec": {
      "display_name": "Python 3",
      "name": "python3"
    },
    "language_info": {
      "name": "python"
    }
  },
  "nbformat": 4,
  "nbformat_minor": 0
}