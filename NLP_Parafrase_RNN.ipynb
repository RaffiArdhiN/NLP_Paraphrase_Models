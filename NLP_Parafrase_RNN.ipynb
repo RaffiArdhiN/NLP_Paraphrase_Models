{
  "nbformat": 4,
  "nbformat_minor": 0,
  "metadata": {
    "colab": {
      "provenance": [],
      "gpuType": "T4"
    },
    "kernelspec": {
      "name": "python3",
      "display_name": "Python 3"
    },
    "language_info": {
      "name": "python"
    },
    "accelerator": "GPU"
  },
  "cells": [
    {
      "cell_type": "code",
      "execution_count": 5,
      "metadata": {
        "id": "QFzpcpPlC3_b"
      },
      "outputs": [],
      "source": [
        "import pandas as pd\n",
        "import numpy as np\n",
        "from sklearn.model_selection import train_test_split\n",
        "from tensorflow.keras.preprocessing.text import Tokenizer\n",
        "from tensorflow.keras.preprocessing.sequence import pad_sequences\n",
        "from tensorflow.keras.models import Sequential\n",
        "from tensorflow.keras.layers import Embedding, SimpleRNN, Dense, Dropout\n",
        "from tensorflow.keras.optimizers import Adam\n",
        "from tensorflow.keras.callbacks import EarlyStopping, ModelCheckpoint\n",
        "import matplotlib.pyplot as plt\n",
        "import seaborn as sns\n",
        "from nltk.translate.bleu_score import sentence_bleu, SmoothingFunction\n",
        "import time"
      ]
    },
    {
      "cell_type": "code",
      "source": [
        "from google.colab import drive\n",
        "drive.mount('/content/drive')"
      ],
      "metadata": {
        "colab": {
          "base_uri": "https://localhost:8080/"
        },
        "id": "B_81HLtUh2IM",
        "outputId": "ff6059b7-44ee-4203-cf96-c0ea86c93c01"
      },
      "execution_count": 6,
      "outputs": [
        {
          "output_type": "stream",
          "name": "stdout",
          "text": [
            "Mounted at /content/drive\n"
          ]
        }
      ]
    },
    {
      "cell_type": "code",
      "source": [
        "data = pd.read_csv('/content/drive/MyDrive/Colab Notebooks/ID_Quora_Paraphrasing_train.csv')\n",
        "df = pd.DataFrame(data)"
      ],
      "metadata": {
        "id": "YnnYaC_xDF5f"
      },
      "execution_count": 7,
      "outputs": []
    },
    {
      "cell_type": "code",
      "source": [
        "df.info()"
      ],
      "metadata": {
        "colab": {
          "base_uri": "https://localhost:8080/"
        },
        "id": "ZOTSRPYeEFcp",
        "outputId": "ffbe642e-f7fb-47d9-fd25-6c2ec1b6e4fa"
      },
      "execution_count": 8,
      "outputs": [
        {
          "output_type": "stream",
          "name": "stdout",
          "text": [
            "<class 'pandas.core.frame.DataFrame'>\n",
            "RangeIndex: 134084 entries, 0 to 134083\n",
            "Data columns (total 2 columns):\n",
            " #   Column      Non-Null Count   Dtype \n",
            "---  ------      --------------   ----- \n",
            " 0   question_1  134084 non-null  object\n",
            " 1   question_2  134084 non-null  object\n",
            "dtypes: object(2)\n",
            "memory usage: 2.0+ MB\n"
          ]
        }
      ]
    },
    {
      "cell_type": "code",
      "source": [
        "df.head()"
      ],
      "metadata": {
        "colab": {
          "base_uri": "https://localhost:8080/",
          "height": 293
        },
        "id": "Ye3dJwfOEP-e",
        "outputId": "5f889f35-826b-4662-f40c-ff70342c44a1"
      },
      "execution_count": 9,
      "outputs": [
        {
          "output_type": "execute_result",
          "data": {
            "text/plain": [
              "                                          question_1  \\\n",
              "0  Apa beberapa teknik yoga yang baik untuk menur...   \n",
              "1                      Bagaimana musik memicu emosi?   \n",
              "2  Apa beberapa contoh bagaimana data dan informa...   \n",
              "3  Haruskah saya menggunakan papan ouija? Apakah ...   \n",
              "4  Apa saja hal-hal yang orang awam tahu tetapi j...   \n",
              "\n",
              "                                          question_2  \n",
              "0       Apa asana yoga untuk menurunkan berat badan?  \n",
              "1  Mengapa musik bertanggung jawab untuk memicu e...  \n",
              "2  Apa perbedaan antara data dan informasi dengan...  \n",
              "3  Apakah Papan Ouija benar-benar memanggil roh? ...  \n",
              "4  Apa yang diketahui oleh jutawan bahwa orang bi...  "
            ],
            "text/html": [
              "\n",
              "  <div id=\"df-c2f4c3fb-8737-4663-82c6-2ef8945b1f18\" class=\"colab-df-container\">\n",
              "    <div>\n",
              "<style scoped>\n",
              "    .dataframe tbody tr th:only-of-type {\n",
              "        vertical-align: middle;\n",
              "    }\n",
              "\n",
              "    .dataframe tbody tr th {\n",
              "        vertical-align: top;\n",
              "    }\n",
              "\n",
              "    .dataframe thead th {\n",
              "        text-align: right;\n",
              "    }\n",
              "</style>\n",
              "<table border=\"1\" class=\"dataframe\">\n",
              "  <thead>\n",
              "    <tr style=\"text-align: right;\">\n",
              "      <th></th>\n",
              "      <th>question_1</th>\n",
              "      <th>question_2</th>\n",
              "    </tr>\n",
              "  </thead>\n",
              "  <tbody>\n",
              "    <tr>\n",
              "      <th>0</th>\n",
              "      <td>Apa beberapa teknik yoga yang baik untuk menur...</td>\n",
              "      <td>Apa asana yoga untuk menurunkan berat badan?</td>\n",
              "    </tr>\n",
              "    <tr>\n",
              "      <th>1</th>\n",
              "      <td>Bagaimana musik memicu emosi?</td>\n",
              "      <td>Mengapa musik bertanggung jawab untuk memicu e...</td>\n",
              "    </tr>\n",
              "    <tr>\n",
              "      <th>2</th>\n",
              "      <td>Apa beberapa contoh bagaimana data dan informa...</td>\n",
              "      <td>Apa perbedaan antara data dan informasi dengan...</td>\n",
              "    </tr>\n",
              "    <tr>\n",
              "      <th>3</th>\n",
              "      <td>Haruskah saya menggunakan papan ouija? Apakah ...</td>\n",
              "      <td>Apakah Papan Ouija benar-benar memanggil roh? ...</td>\n",
              "    </tr>\n",
              "    <tr>\n",
              "      <th>4</th>\n",
              "      <td>Apa saja hal-hal yang orang awam tahu tetapi j...</td>\n",
              "      <td>Apa yang diketahui oleh jutawan bahwa orang bi...</td>\n",
              "    </tr>\n",
              "  </tbody>\n",
              "</table>\n",
              "</div>\n",
              "    <div class=\"colab-df-buttons\">\n",
              "\n",
              "  <div class=\"colab-df-container\">\n",
              "    <button class=\"colab-df-convert\" onclick=\"convertToInteractive('df-c2f4c3fb-8737-4663-82c6-2ef8945b1f18')\"\n",
              "            title=\"Convert this dataframe to an interactive table.\"\n",
              "            style=\"display:none;\">\n",
              "\n",
              "  <svg xmlns=\"http://www.w3.org/2000/svg\" height=\"24px\" viewBox=\"0 -960 960 960\">\n",
              "    <path d=\"M120-120v-720h720v720H120Zm60-500h600v-160H180v160Zm220 220h160v-160H400v160Zm0 220h160v-160H400v160ZM180-400h160v-160H180v160Zm440 0h160v-160H620v160ZM180-180h160v-160H180v160Zm440 0h160v-160H620v160Z\"/>\n",
              "  </svg>\n",
              "    </button>\n",
              "\n",
              "  <style>\n",
              "    .colab-df-container {\n",
              "      display:flex;\n",
              "      gap: 12px;\n",
              "    }\n",
              "\n",
              "    .colab-df-convert {\n",
              "      background-color: #E8F0FE;\n",
              "      border: none;\n",
              "      border-radius: 50%;\n",
              "      cursor: pointer;\n",
              "      display: none;\n",
              "      fill: #1967D2;\n",
              "      height: 32px;\n",
              "      padding: 0 0 0 0;\n",
              "      width: 32px;\n",
              "    }\n",
              "\n",
              "    .colab-df-convert:hover {\n",
              "      background-color: #E2EBFA;\n",
              "      box-shadow: 0px 1px 2px rgba(60, 64, 67, 0.3), 0px 1px 3px 1px rgba(60, 64, 67, 0.15);\n",
              "      fill: #174EA6;\n",
              "    }\n",
              "\n",
              "    .colab-df-buttons div {\n",
              "      margin-bottom: 4px;\n",
              "    }\n",
              "\n",
              "    [theme=dark] .colab-df-convert {\n",
              "      background-color: #3B4455;\n",
              "      fill: #D2E3FC;\n",
              "    }\n",
              "\n",
              "    [theme=dark] .colab-df-convert:hover {\n",
              "      background-color: #434B5C;\n",
              "      box-shadow: 0px 1px 3px 1px rgba(0, 0, 0, 0.15);\n",
              "      filter: drop-shadow(0px 1px 2px rgba(0, 0, 0, 0.3));\n",
              "      fill: #FFFFFF;\n",
              "    }\n",
              "  </style>\n",
              "\n",
              "    <script>\n",
              "      const buttonEl =\n",
              "        document.querySelector('#df-c2f4c3fb-8737-4663-82c6-2ef8945b1f18 button.colab-df-convert');\n",
              "      buttonEl.style.display =\n",
              "        google.colab.kernel.accessAllowed ? 'block' : 'none';\n",
              "\n",
              "      async function convertToInteractive(key) {\n",
              "        const element = document.querySelector('#df-c2f4c3fb-8737-4663-82c6-2ef8945b1f18');\n",
              "        const dataTable =\n",
              "          await google.colab.kernel.invokeFunction('convertToInteractive',\n",
              "                                                    [key], {});\n",
              "        if (!dataTable) return;\n",
              "\n",
              "        const docLinkHtml = 'Like what you see? Visit the ' +\n",
              "          '<a target=\"_blank\" href=https://colab.research.google.com/notebooks/data_table.ipynb>data table notebook</a>'\n",
              "          + ' to learn more about interactive tables.';\n",
              "        element.innerHTML = '';\n",
              "        dataTable['output_type'] = 'display_data';\n",
              "        await google.colab.output.renderOutput(dataTable, element);\n",
              "        const docLink = document.createElement('div');\n",
              "        docLink.innerHTML = docLinkHtml;\n",
              "        element.appendChild(docLink);\n",
              "      }\n",
              "    </script>\n",
              "  </div>\n",
              "\n",
              "\n",
              "<div id=\"df-4ef2a5e5-9296-4da0-8b7f-e3f9d5747243\">\n",
              "  <button class=\"colab-df-quickchart\" onclick=\"quickchart('df-4ef2a5e5-9296-4da0-8b7f-e3f9d5747243')\"\n",
              "            title=\"Suggest charts\"\n",
              "            style=\"display:none;\">\n",
              "\n",
              "<svg xmlns=\"http://www.w3.org/2000/svg\" height=\"24px\"viewBox=\"0 0 24 24\"\n",
              "     width=\"24px\">\n",
              "    <g>\n",
              "        <path d=\"M19 3H5c-1.1 0-2 .9-2 2v14c0 1.1.9 2 2 2h14c1.1 0 2-.9 2-2V5c0-1.1-.9-2-2-2zM9 17H7v-7h2v7zm4 0h-2V7h2v10zm4 0h-2v-4h2v4z\"/>\n",
              "    </g>\n",
              "</svg>\n",
              "  </button>\n",
              "\n",
              "<style>\n",
              "  .colab-df-quickchart {\n",
              "      --bg-color: #E8F0FE;\n",
              "      --fill-color: #1967D2;\n",
              "      --hover-bg-color: #E2EBFA;\n",
              "      --hover-fill-color: #174EA6;\n",
              "      --disabled-fill-color: #AAA;\n",
              "      --disabled-bg-color: #DDD;\n",
              "  }\n",
              "\n",
              "  [theme=dark] .colab-df-quickchart {\n",
              "      --bg-color: #3B4455;\n",
              "      --fill-color: #D2E3FC;\n",
              "      --hover-bg-color: #434B5C;\n",
              "      --hover-fill-color: #FFFFFF;\n",
              "      --disabled-bg-color: #3B4455;\n",
              "      --disabled-fill-color: #666;\n",
              "  }\n",
              "\n",
              "  .colab-df-quickchart {\n",
              "    background-color: var(--bg-color);\n",
              "    border: none;\n",
              "    border-radius: 50%;\n",
              "    cursor: pointer;\n",
              "    display: none;\n",
              "    fill: var(--fill-color);\n",
              "    height: 32px;\n",
              "    padding: 0;\n",
              "    width: 32px;\n",
              "  }\n",
              "\n",
              "  .colab-df-quickchart:hover {\n",
              "    background-color: var(--hover-bg-color);\n",
              "    box-shadow: 0 1px 2px rgba(60, 64, 67, 0.3), 0 1px 3px 1px rgba(60, 64, 67, 0.15);\n",
              "    fill: var(--button-hover-fill-color);\n",
              "  }\n",
              "\n",
              "  .colab-df-quickchart-complete:disabled,\n",
              "  .colab-df-quickchart-complete:disabled:hover {\n",
              "    background-color: var(--disabled-bg-color);\n",
              "    fill: var(--disabled-fill-color);\n",
              "    box-shadow: none;\n",
              "  }\n",
              "\n",
              "  .colab-df-spinner {\n",
              "    border: 2px solid var(--fill-color);\n",
              "    border-color: transparent;\n",
              "    border-bottom-color: var(--fill-color);\n",
              "    animation:\n",
              "      spin 1s steps(1) infinite;\n",
              "  }\n",
              "\n",
              "  @keyframes spin {\n",
              "    0% {\n",
              "      border-color: transparent;\n",
              "      border-bottom-color: var(--fill-color);\n",
              "      border-left-color: var(--fill-color);\n",
              "    }\n",
              "    20% {\n",
              "      border-color: transparent;\n",
              "      border-left-color: var(--fill-color);\n",
              "      border-top-color: var(--fill-color);\n",
              "    }\n",
              "    30% {\n",
              "      border-color: transparent;\n",
              "      border-left-color: var(--fill-color);\n",
              "      border-top-color: var(--fill-color);\n",
              "      border-right-color: var(--fill-color);\n",
              "    }\n",
              "    40% {\n",
              "      border-color: transparent;\n",
              "      border-right-color: var(--fill-color);\n",
              "      border-top-color: var(--fill-color);\n",
              "    }\n",
              "    60% {\n",
              "      border-color: transparent;\n",
              "      border-right-color: var(--fill-color);\n",
              "    }\n",
              "    80% {\n",
              "      border-color: transparent;\n",
              "      border-right-color: var(--fill-color);\n",
              "      border-bottom-color: var(--fill-color);\n",
              "    }\n",
              "    90% {\n",
              "      border-color: transparent;\n",
              "      border-bottom-color: var(--fill-color);\n",
              "    }\n",
              "  }\n",
              "</style>\n",
              "\n",
              "  <script>\n",
              "    async function quickchart(key) {\n",
              "      const quickchartButtonEl =\n",
              "        document.querySelector('#' + key + ' button');\n",
              "      quickchartButtonEl.disabled = true;  // To prevent multiple clicks.\n",
              "      quickchartButtonEl.classList.add('colab-df-spinner');\n",
              "      try {\n",
              "        const charts = await google.colab.kernel.invokeFunction(\n",
              "            'suggestCharts', [key], {});\n",
              "      } catch (error) {\n",
              "        console.error('Error during call to suggestCharts:', error);\n",
              "      }\n",
              "      quickchartButtonEl.classList.remove('colab-df-spinner');\n",
              "      quickchartButtonEl.classList.add('colab-df-quickchart-complete');\n",
              "    }\n",
              "    (() => {\n",
              "      let quickchartButtonEl =\n",
              "        document.querySelector('#df-4ef2a5e5-9296-4da0-8b7f-e3f9d5747243 button');\n",
              "      quickchartButtonEl.style.display =\n",
              "        google.colab.kernel.accessAllowed ? 'block' : 'none';\n",
              "    })();\n",
              "  </script>\n",
              "</div>\n",
              "\n",
              "    </div>\n",
              "  </div>\n"
            ],
            "application/vnd.google.colaboratory.intrinsic+json": {
              "type": "dataframe",
              "variable_name": "df"
            }
          },
          "metadata": {},
          "execution_count": 9
        }
      ]
    },
    {
      "cell_type": "code",
      "source": [
        "df['sentence1_length'] = df['question_1'].apply(lambda x: len(x.split()))\n",
        "df['sentence2_length'] = df['question_2'].apply(lambda x: len(x.split()))"
      ],
      "metadata": {
        "id": "iLwifjL1C8HP"
      },
      "execution_count": 10,
      "outputs": []
    },
    {
      "cell_type": "code",
      "source": [
        "plt.figure(figsize=(12, 6))\n",
        "sns.histplot(df['sentence1_length'], bins=50, kde=True, color='blue', label='sentence1 length')\n",
        "sns.histplot(df['sentence2_length'], bins=50, kde=True, color='green', label='sentence2 length')\n",
        "plt.legend()\n",
        "plt.title('Distribusi Panjang Kalimat (sentence1 dan sentence2)')\n",
        "plt.xlabel('Panjang Kalimat')\n",
        "plt.ylabel('Frekuensi')\n",
        "plt.show()"
      ],
      "metadata": {
        "colab": {
          "base_uri": "https://localhost:8080/",
          "height": 353
        },
        "id": "k_OXylp8GiGY",
        "outputId": "89cce7f2-e1be-4f07-b759-bb289fcf972d"
      },
      "execution_count": 11,
      "outputs": [
        {
          "output_type": "display_data",
          "data": {
            "text/plain": [
              "<Figure size 1200x600 with 1 Axes>"
            ],
            "image/png": "[encoded data removed]"
          },
          "metadata": {}
        }
      ]
    },
    {
      "cell_type": "code",
      "source": [
        "X = df['question_1'][:50000]\n",
        "y = df['question_2'][:50000]"
      ],
      "metadata": {
        "id": "Nm6HBVv3Ik6m"
      },
      "execution_count": 12,
      "outputs": []
    },
    {
      "cell_type": "code",
      "source": [
        "X_train, X_test, y_train, y_test = train_test_split(X, y, test_size=0.2, random_state=42)"
      ],
      "metadata": {
        "id": "0aLcF_pMuB8E"
      },
      "execution_count": 13,
      "outputs": []
    },
    {
      "cell_type": "code",
      "source": [
        "X.shape, y.shape"
      ],
      "metadata": {
        "id": "JhrVGIZXfhLi",
        "colab": {
          "base_uri": "https://localhost:8080/"
        },
        "outputId": "c813b330-f15a-41f5-95d2-9afa4a944661"
      },
      "execution_count": 14,
      "outputs": [
        {
          "output_type": "execute_result",
          "data": {
            "text/plain": [
              "((50000,), (50000,))"
            ]
          },
          "metadata": {},
          "execution_count": 14
        }
      ]
    },
    {
      "cell_type": "code",
      "source": [
        "tokenizer = Tokenizer(num_words=10000)\n",
        "tokenizer.fit_on_texts(pd.concat([X, y]).values)  # Menggabungkan kolom untuk kosakata"
      ],
      "metadata": {
        "id": "ev-P1EznIlfZ"
      },
      "execution_count": 15,
      "outputs": []
    },
    {
      "cell_type": "code",
      "source": [
        "X_train_seq = tokenizer.texts_to_sequences(X_train)\n",
        "y_train_seq = tokenizer.texts_to_sequences(y_train)\n",
        "X_test_seq = tokenizer.texts_to_sequences(X_test)\n",
        "y_test_seq = tokenizer.texts_to_sequences(y_test)"
      ],
      "metadata": {
        "id": "__r5W7XOIsh2"
      },
      "execution_count": 16,
      "outputs": []
    },
    {
      "cell_type": "code",
      "source": [
        "vocab_size = len(tokenizer.word_index) + 1  # Tambahkan +1 untuk kata yang tidak dikenal\n",
        "embedding_dim = 100\n",
        "max_length = max(\n",
        "    max(len(seq) for seq in X_train_seq), max(len(seq) for seq in y_train_seq)\n",
        ")  # Panjang maksimum dari semua sequence di data train"
      ],
      "metadata": {
        "id": "UfsE1z7UKCK2"
      },
      "execution_count": 17,
      "outputs": []
    },
    {
      "cell_type": "code",
      "source": [
        "X_train_padded = pad_sequences(X_train_seq, maxlen=max_length, padding='post', truncating='post')\n",
        "y_train_padded = pad_sequences(y_train_seq, maxlen=max_length, padding='post', truncating='post')\n",
        "X_test_padded = pad_sequences(X_test_seq, maxlen=max_length, padding='post', truncating='post')\n",
        "y_test_padded = pad_sequences(y_test_seq, maxlen=max_length, padding='post', truncating='post')"
      ],
      "metadata": {
        "id": "owSOCADLIuOl"
      },
      "execution_count": 18,
      "outputs": []
    },
    {
      "cell_type": "code",
      "source": [
        "model = Sequential([\n",
        "    Embedding(input_dim=vocab_size, output_dim=embedding_dim, input_length=max_length),\n",
        "    SimpleRNN(64, return_sequences=True),\n",
        "    Dropout(0.3),\n",
        "    Dense(vocab_size, activation='softmax')\n",
        "])\n",
        "\n",
        "# Compile Model\n",
        "model.compile(optimizer=Adam(learning_rate=0.001), loss='sparse_categorical_crossentropy', metrics=['accuracy'])\n",
        "\n",
        "checkpoint = ModelCheckpoint(\n",
        "    filepath='best_model_SimpleRNN_{val_accuracy:.4f}.keras',  # Filepath to save the model\n",
        "    monitor='val_accuracy',    # Metric to monitor\n",
        "    save_best_only=True,       # Save only the best model\n",
        "    mode='max',                # 'max' because we want the highest val_accuracy\n",
        "    verbose=1\n",
        ")\n",
        "# Early Stopping untuk mencegah overfitting\n",
        "early_stopping = EarlyStopping(monitor='val_loss', patience=3, restore_best_weights=True)\n",
        "\n",
        "start_time = time.time()\n",
        "\n",
        "# Train the Model\n",
        "history = model.fit(X_train_padded, y_train_padded, epochs=15, batch_size=16, validation_split=0.2, callbacks=[early_stopping, checkpoint])\n",
        "\n",
        "end_time = time.time()\n",
        "\n",
        "# Calculate total running time\n",
        "total_time = end_time - start_time\n",
        "print(f\"Total Training Time: {total_time:.2f} seconds\")\n",
        "model.summary()"
      ],
      "metadata": {
        "colab": {
          "base_uri": "https://localhost:8080/",
          "height": 1000
        },
        "id": "TBgKgxJkJbv3",
        "outputId": "77fd99d1-e1f7-4fd8-f8d8-62807cdb867d"
      },
      "execution_count": 19,
      "outputs": [
        {
          "output_type": "stream",
          "name": "stderr",
          "text": [
            "/usr/local/lib/python3.10/dist-packages/keras/src/layers/core/embedding.py:90: UserWarning: Argument `input_length` is deprecated. Just remove it.\n",
            "  warnings.warn(\n"
          ]
        },
        {
          "output_type": "stream",
          "name": "stdout",
          "text": [
            "Epoch 1/15\n",
            "\u001b[1m1998/2000\u001b[0m \u001b[32m━━━━━━━━━━━━━━━━━━━\u001b[0m\u001b[37m━\u001b[0m \u001b[1m0s\u001b[0m 10ms/step - accuracy: 0.7961 - loss: 2.3109\n",
            "Epoch 1: val_accuracy improved from -inf to 0.82226, saving model to best_model_SimpleRNN_0.8223.keras\n",
            "\u001b[1m2000/2000\u001b[0m \u001b[32m━━━━━━━━━━━━━━━━━━━━\u001b[0m\u001b[37m\u001b[0m \u001b[1m28s\u001b[0m 12ms/step - accuracy: 0.7961 - loss: 2.3099 - val_accuracy: 0.8223 - val_loss: 1.3014\n",
            "Epoch 2/15\n",
            "\u001b[1m1997/2000\u001b[0m \u001b[32m━━━━━━━━━━━━━━━━━━━\u001b[0m\u001b[37m━\u001b[0m \u001b[1m0s\u001b[0m 9ms/step - accuracy: 0.8219 - loss: 1.3028\n",
            "Epoch 2: val_accuracy improved from 0.82226 to 0.82824, saving model to best_model_SimpleRNN_0.8282.keras\n",
            "\u001b[1m2000/2000\u001b[0m \u001b[32m━━━━━━━━━━━━━━━━━━━━\u001b[0m\u001b[37m\u001b[0m \u001b[1m36s\u001b[0m 11ms/step - accuracy: 0.8219 - loss: 1.3027 - val_accuracy: 0.8282 - val_loss: 1.2297\n",
            "Epoch 3/15\n",
            "\u001b[1m1998/2000\u001b[0m \u001b[32m━━━━━━━━━━━━━━━━━━━\u001b[0m\u001b[37m━\u001b[0m \u001b[1m0s\u001b[0m 10ms/step - accuracy: 0.8280 - loss: 1.2179\n",
            "Epoch 3: val_accuracy improved from 0.82824 to 0.83114, saving model to best_model_SimpleRNN_0.8311.keras\n",
            "\u001b[1m2000/2000\u001b[0m \u001b[32m━━━━━━━━━━━━━━━━━━━━\u001b[0m\u001b[37m\u001b[0m \u001b[1m42s\u001b[0m 11ms/step - accuracy: 0.8280 - loss: 1.2179 - val_accuracy: 0.8311 - val_loss: 1.1901\n",
            "Epoch 4/15\n",
            "\u001b[1m1996/2000\u001b[0m \u001b[32m━━━━━━━━━━━━━━━━━━━\u001b[0m\u001b[37m━\u001b[0m \u001b[1m0s\u001b[0m 9ms/step - accuracy: 0.8304 - loss: 1.1632\n",
            "Epoch 4: val_accuracy improved from 0.83114 to 0.83284, saving model to best_model_SimpleRNN_0.8328.keras\n",
            "\u001b[1m2000/2000\u001b[0m \u001b[32m━━━━━━━━━━━━━━━━━━━━\u001b[0m\u001b[37m\u001b[0m \u001b[1m40s\u001b[0m 11ms/step - accuracy: 0.8304 - loss: 1.1632 - val_accuracy: 0.8328 - val_loss: 1.1541\n",
            "Epoch 5/15\n",
            "\u001b[1m1997/2000\u001b[0m \u001b[32m━━━━━━━━━━━━━━━━━━━\u001b[0m\u001b[37m━\u001b[0m \u001b[1m0s\u001b[0m 9ms/step - accuracy: 0.8330 - loss: 1.1204\n",
            "Epoch 5: val_accuracy improved from 0.83284 to 0.83423, saving model to best_model_SimpleRNN_0.8342.keras\n",
            "\u001b[1m2000/2000\u001b[0m \u001b[32m━━━━━━━━━━━━━━━━━━━━\u001b[0m\u001b[37m\u001b[0m \u001b[1m41s\u001b[0m 11ms/step - accuracy: 0.8330 - loss: 1.1204 - val_accuracy: 0.8342 - val_loss: 1.1370\n",
            "Epoch 6/15\n",
            "\u001b[1m1997/2000\u001b[0m \u001b[32m━━━━━━━━━━━━━━━━━━━\u001b[0m\u001b[37m━\u001b[0m \u001b[1m0s\u001b[0m 10ms/step - accuracy: 0.8352 - loss: 1.0802\n",
            "Epoch 6: val_accuracy did not improve from 0.83423\n",
            "\u001b[1m2000/2000\u001b[0m \u001b[32m━━━━━━━━━━━━━━━━━━━━\u001b[0m\u001b[37m\u001b[0m \u001b[1m41s\u001b[0m 11ms/step - accuracy: 0.8352 - loss: 1.0802 - val_accuracy: 0.8342 - val_loss: 1.1217\n",
            "Epoch 7/15\n",
            "\u001b[1m1996/2000\u001b[0m \u001b[32m━━━━━━━━━━━━━━━━━━━\u001b[0m\u001b[37m━\u001b[0m \u001b[1m0s\u001b[0m 10ms/step - accuracy: 0.8361 - loss: 1.0583\n",
            "Epoch 7: val_accuracy improved from 0.83423 to 0.83569, saving model to best_model_SimpleRNN_0.8357.keras\n",
            "\u001b[1m2000/2000\u001b[0m \u001b[32m━━━━━━━━━━━━━━━━━━━━\u001b[0m\u001b[37m\u001b[0m \u001b[1m42s\u001b[0m 11ms/step - accuracy: 0.8361 - loss: 1.0583 - val_accuracy: 0.8357 - val_loss: 1.1125\n",
            "Epoch 8/15\n",
            "\u001b[1m1995/2000\u001b[0m \u001b[32m━━━━━━━━━━━━━━━━━━━\u001b[0m\u001b[37m━\u001b[0m \u001b[1m0s\u001b[0m 10ms/step - accuracy: 0.8372 - loss: 1.0345\n",
            "Epoch 8: val_accuracy improved from 0.83569 to 0.83640, saving model to best_model_SimpleRNN_0.8364.keras\n",
            "\u001b[1m2000/2000\u001b[0m \u001b[32m━━━━━━━━━━━━━━━━━━━━\u001b[0m\u001b[37m\u001b[0m \u001b[1m22s\u001b[0m 11ms/step - accuracy: 0.8372 - loss: 1.0345 - val_accuracy: 0.8364 - val_loss: 1.1122\n",
            "Epoch 9/15\n",
            "\u001b[1m1999/2000\u001b[0m \u001b[32m━━━━━━━━━━━━━━━━━━━\u001b[0m\u001b[37m━\u001b[0m \u001b[1m0s\u001b[0m 9ms/step - accuracy: 0.8383 - loss: 1.0159\n",
            "Epoch 9: val_accuracy improved from 0.83640 to 0.83674, saving model to best_model_SimpleRNN_0.8367.keras\n",
            "\u001b[1m2000/2000\u001b[0m \u001b[32m━━━━━━━━━━━━━━━━━━━━\u001b[0m\u001b[37m\u001b[0m \u001b[1m41s\u001b[0m 11ms/step - accuracy: 0.8383 - loss: 1.0159 - val_accuracy: 0.8367 - val_loss: 1.1029\n",
            "Epoch 10/15\n",
            "\u001b[1m1996/2000\u001b[0m \u001b[32m━━━━━━━━━━━━━━━━━━━\u001b[0m\u001b[37m━\u001b[0m \u001b[1m0s\u001b[0m 9ms/step - accuracy: 0.8394 - loss: 0.9926\n",
            "Epoch 10: val_accuracy improved from 0.83674 to 0.83716, saving model to best_model_SimpleRNN_0.8372.keras\n",
            "\u001b[1m2000/2000\u001b[0m \u001b[32m━━━━━━━━━━━━━━━━━━━━\u001b[0m\u001b[37m\u001b[0m \u001b[1m41s\u001b[0m 11ms/step - accuracy: 0.8394 - loss: 0.9926 - val_accuracy: 0.8372 - val_loss: 1.1021\n",
            "Epoch 11/15\n",
            "\u001b[1m2000/2000\u001b[0m \u001b[32m━━━━━━━━━━━━━━━━━━━━\u001b[0m\u001b[37m\u001b[0m \u001b[1m0s\u001b[0m 10ms/step - accuracy: 0.8408 - loss: 0.9766\n",
            "Epoch 11: val_accuracy did not improve from 0.83716\n",
            "\u001b[1m2000/2000\u001b[0m \u001b[32m━━━━━━━━━━━━━━━━━━━━\u001b[0m\u001b[37m\u001b[0m \u001b[1m22s\u001b[0m 11ms/step - accuracy: 0.8408 - loss: 0.9766 - val_accuracy: 0.8359 - val_loss: 1.0906\n",
            "Epoch 12/15\n",
            "\u001b[1m1998/2000\u001b[0m \u001b[32m━━━━━━━━━━━━━━━━━━━\u001b[0m\u001b[37m━\u001b[0m \u001b[1m0s\u001b[0m 10ms/step - accuracy: 0.8415 - loss: 0.9693\n",
            "Epoch 12: val_accuracy did not improve from 0.83716\n",
            "\u001b[1m2000/2000\u001b[0m \u001b[32m━━━━━━━━━━━━━━━━━━━━\u001b[0m\u001b[37m\u001b[0m \u001b[1m41s\u001b[0m 11ms/step - accuracy: 0.8415 - loss: 0.9693 - val_accuracy: 0.8363 - val_loss: 1.0881\n",
            "Epoch 13/15\n",
            "\u001b[1m1999/2000\u001b[0m \u001b[32m━━━━━━━━━━━━━━━━━━━\u001b[0m\u001b[37m━\u001b[0m \u001b[1m0s\u001b[0m 9ms/step - accuracy: 0.8402 - loss: 0.9619\n",
            "Epoch 13: val_accuracy improved from 0.83716 to 0.83809, saving model to best_model_SimpleRNN_0.8381.keras\n",
            "\u001b[1m2000/2000\u001b[0m \u001b[32m━━━━━━━━━━━━━━━━━━━━\u001b[0m\u001b[37m\u001b[0m \u001b[1m22s\u001b[0m 11ms/step - accuracy: 0.8402 - loss: 0.9619 - val_accuracy: 0.8381 - val_loss: 1.0890\n",
            "Epoch 14/15\n",
            "\u001b[1m2000/2000\u001b[0m \u001b[32m━━━━━━━━━━━━━━━━━━━━\u001b[0m\u001b[37m\u001b[0m \u001b[1m0s\u001b[0m 10ms/step - accuracy: 0.8422 - loss: 0.9431\n",
            "Epoch 14: val_accuracy did not improve from 0.83809\n",
            "\u001b[1m2000/2000\u001b[0m \u001b[32m━━━━━━━━━━━━━━━━━━━━\u001b[0m\u001b[37m\u001b[0m \u001b[1m41s\u001b[0m 11ms/step - accuracy: 0.8422 - loss: 0.9431 - val_accuracy: 0.8366 - val_loss: 1.0858\n",
            "Epoch 15/15\n",
            "\u001b[1m2000/2000\u001b[0m \u001b[32m━━━━━━━━━━━━━━━━━━━━\u001b[0m\u001b[37m\u001b[0m \u001b[1m0s\u001b[0m 10ms/step - accuracy: 0.8431 - loss: 0.9282\n",
            "Epoch 15: val_accuracy did not improve from 0.83809\n",
            "\u001b[1m2000/2000\u001b[0m \u001b[32m━━━━━━━━━━━━━━━━━━━━\u001b[0m\u001b[37m\u001b[0m \u001b[1m41s\u001b[0m 11ms/step - accuracy: 0.8431 - loss: 0.9282 - val_accuracy: 0.8372 - val_loss: 1.0866\n",
            "Total Training Time: 539.96 seconds\n"
          ]
        },
        {
          "output_type": "display_data",
          "data": {
            "text/plain": [
              "\u001b[1mModel: \"sequential\"\u001b[0m\n"
            ],
            "text/html": [
              "<pre style=\"white-space:pre;overflow-x:auto;line-height:normal;font-family:Menlo,'DejaVu Sans Mono',consolas,'Courier New',monospace\"><span style=\"font-weight: bold\">Model: \"sequential\"</span>\n",
              "</pre>\n"
            ]
          },
          "metadata": {}
        },
        {
          "output_type": "display_data",
          "data": {
            "text/plain": [
              "┏━━━━━━━━━━━━━━━━━━━━━━━━━━━━━━━━━━━━━━┳━━━━━━━━━━━━━━━━━━━━━━━━━━━━━┳━━━━━━━━━━━━━━━━━┓\n",
              "┃\u001b[1m \u001b[0m\u001b[1mLayer (type)                        \u001b[0m\u001b[1m \u001b[0m┃\u001b[1m \u001b[0m\u001b[1mOutput Shape               \u001b[0m\u001b[1m \u001b[0m┃\u001b[1m \u001b[0m\u001b[1m        Param #\u001b[0m\u001b[1m \u001b[0m┃\n",
              "┡━━━━━━━━━━━━━━━━━━━━━━━━━━━━━━━━━━━━━━╇━━━━━━━━━━━━━━━━━━━━━━━━━━━━━╇━━━━━━━━━━━━━━━━━┩\n",
              "│ embedding (\u001b[38;5;33mEmbedding\u001b[0m)                │ (\u001b[38;5;34m16\u001b[0m, \u001b[38;5;34m43\u001b[0m, \u001b[38;5;34m100\u001b[0m)               │       \u001b[38;5;34m1,768,800\u001b[0m │\n",
              "├──────────────────────────────────────┼─────────────────────────────┼─────────────────┤\n",
              "│ simple_rnn (\u001b[38;5;33mSimpleRNN\u001b[0m)               │ (\u001b[38;5;34m16\u001b[0m, \u001b[38;5;34m43\u001b[0m, \u001b[38;5;34m64\u001b[0m)                │          \u001b[38;5;34m10,560\u001b[0m │\n",
              "├──────────────────────────────────────┼─────────────────────────────┼─────────────────┤\n",
              "│ dropout (\u001b[38;5;33mDropout\u001b[0m)                    │ (\u001b[38;5;34m16\u001b[0m, \u001b[38;5;34m43\u001b[0m, \u001b[38;5;34m64\u001b[0m)                │               \u001b[38;5;34m0\u001b[0m │\n",
              "├──────────────────────────────────────┼─────────────────────────────┼─────────────────┤\n",
              "│ dense (\u001b[38;5;33mDense\u001b[0m)                        │ (\u001b[38;5;34m16\u001b[0m, \u001b[38;5;34m43\u001b[0m, \u001b[38;5;34m17688\u001b[0m)             │       \u001b[38;5;34m1,149,720\u001b[0m │\n",
              "└──────────────────────────────────────┴─────────────────────────────┴─────────────────┘\n"
            ],
            "text/html": [
              "<pre style=\"white-space:pre;overflow-x:auto;line-height:normal;font-family:Menlo,'DejaVu Sans Mono',consolas,'Courier New',monospace\">┏━━━━━━━━━━━━━━━━━━━━━━━━━━━━━━━━━━━━━━┳━━━━━━━━━━━━━━━━━━━━━━━━━━━━━┳━━━━━━━━━━━━━━━━━┓\n",
              "┃<span style=\"font-weight: bold\"> Layer (type)                         </span>┃<span style=\"font-weight: bold\"> Output Shape                </span>┃<span style=\"font-weight: bold\">         Param # </span>┃\n",
              "┡━━━━━━━━━━━━━━━━━━━━━━━━━━━━━━━━━━━━━━╇━━━━━━━━━━━━━━━━━━━━━━━━━━━━━╇━━━━━━━━━━━━━━━━━┩\n",
              "│ embedding (<span style=\"color: #0087ff; text-decoration-color: #0087ff\">Embedding</span>)                │ (<span style=\"color: #00af00; text-decoration-color: #00af00\">16</span>, <span style=\"color: #00af00; text-decoration-color: #00af00\">43</span>, <span style=\"color: #00af00; text-decoration-color: #00af00\">100</span>)               │       <span style=\"color: #00af00; text-decoration-color: #00af00\">1,768,800</span> │\n",
              "├──────────────────────────────────────┼─────────────────────────────┼─────────────────┤\n",
              "│ simple_rnn (<span style=\"color: #0087ff; text-decoration-color: #0087ff\">SimpleRNN</span>)               │ (<span style=\"color: #00af00; text-decoration-color: #00af00\">16</span>, <span style=\"color: #00af00; text-decoration-color: #00af00\">43</span>, <span style=\"color: #00af00; text-decoration-color: #00af00\">64</span>)                │          <span style=\"color: #00af00; text-decoration-color: #00af00\">10,560</span> │\n",
              "├──────────────────────────────────────┼─────────────────────────────┼─────────────────┤\n",
              "│ dropout (<span style=\"color: #0087ff; text-decoration-color: #0087ff\">Dropout</span>)                    │ (<span style=\"color: #00af00; text-decoration-color: #00af00\">16</span>, <span style=\"color: #00af00; text-decoration-color: #00af00\">43</span>, <span style=\"color: #00af00; text-decoration-color: #00af00\">64</span>)                │               <span style=\"color: #00af00; text-decoration-color: #00af00\">0</span> │\n",
              "├──────────────────────────────────────┼─────────────────────────────┼─────────────────┤\n",
              "│ dense (<span style=\"color: #0087ff; text-decoration-color: #0087ff\">Dense</span>)                        │ (<span style=\"color: #00af00; text-decoration-color: #00af00\">16</span>, <span style=\"color: #00af00; text-decoration-color: #00af00\">43</span>, <span style=\"color: #00af00; text-decoration-color: #00af00\">17688</span>)             │       <span style=\"color: #00af00; text-decoration-color: #00af00\">1,149,720</span> │\n",
              "└──────────────────────────────────────┴─────────────────────────────┴─────────────────┘\n",
              "</pre>\n"
            ]
          },
          "metadata": {}
        },
        {
          "output_type": "display_data",
          "data": {
            "text/plain": [
              "\u001b[1m Total params: \u001b[0m\u001b[38;5;34m8,787,242\u001b[0m (33.52 MB)\n"
            ],
            "text/html": [
              "<pre style=\"white-space:pre;overflow-x:auto;line-height:normal;font-family:Menlo,'DejaVu Sans Mono',consolas,'Courier New',monospace\"><span style=\"font-weight: bold\"> Total params: </span><span style=\"color: #00af00; text-decoration-color: #00af00\">8,787,242</span> (33.52 MB)\n",
              "</pre>\n"
            ]
          },
          "metadata": {}
        },
        {
          "output_type": "display_data",
          "data": {
            "text/plain": [
              "\u001b[1m Trainable params: \u001b[0m\u001b[38;5;34m2,929,080\u001b[0m (11.17 MB)\n"
            ],
            "text/html": [
              "<pre style=\"white-space:pre;overflow-x:auto;line-height:normal;font-family:Menlo,'DejaVu Sans Mono',consolas,'Courier New',monospace\"><span style=\"font-weight: bold\"> Trainable params: </span><span style=\"color: #00af00; text-decoration-color: #00af00\">2,929,080</span> (11.17 MB)\n",
              "</pre>\n"
            ]
          },
          "metadata": {}
        },
        {
          "output_type": "display_data",
          "data": {
            "text/plain": [
              "\u001b[1m Non-trainable params: \u001b[0m\u001b[38;5;34m0\u001b[0m (0.00 B)\n"
            ],
            "text/html": [
              "<pre style=\"white-space:pre;overflow-x:auto;line-height:normal;font-family:Menlo,'DejaVu Sans Mono',consolas,'Courier New',monospace\"><span style=\"font-weight: bold\"> Non-trainable params: </span><span style=\"color: #00af00; text-decoration-color: #00af00\">0</span> (0.00 B)\n",
              "</pre>\n"
            ]
          },
          "metadata": {}
        },
        {
          "output_type": "display_data",
          "data": {
            "text/plain": [
              "\u001b[1m Optimizer params: \u001b[0m\u001b[38;5;34m5,858,162\u001b[0m (22.35 MB)\n"
            ],
            "text/html": [
              "<pre style=\"white-space:pre;overflow-x:auto;line-height:normal;font-family:Menlo,'DejaVu Sans Mono',consolas,'Courier New',monospace\"><span style=\"font-weight: bold\"> Optimizer params: </span><span style=\"color: #00af00; text-decoration-color: #00af00\">5,858,162</span> (22.35 MB)\n",
              "</pre>\n"
            ]
          },
          "metadata": {}
        }
      ]
    },
    {
      "cell_type": "code",
      "source": [
        "# Plot Training & Validation Accuracy and Loss\n",
        "plt.figure(figsize=(12, 6))\n",
        "\n",
        "# Plot Accuracy\n",
        "plt.subplot(1, 2, 1)\n",
        "plt.plot(history.history['accuracy'], label='Training Accuracy')\n",
        "plt.plot(history.history['val_accuracy'], label='Validation Accuracy')\n",
        "plt.xlabel('Epochs')\n",
        "plt.ylabel('Accuracy')\n",
        "plt.legend()\n",
        "plt.title('Training and Validation Accuracy')\n",
        "\n",
        "# Plot Loss\n",
        "plt.subplot(1, 2, 2)\n",
        "plt.plot(history.history['loss'], label='Training Loss')\n",
        "plt.plot(history.history['val_loss'], label='Validation Loss')\n",
        "plt.xlabel('Epochs')\n",
        "plt.ylabel('Loss')\n",
        "plt.legend()\n",
        "plt.title('Training and Validation Loss')\n",
        "plt.show()"
      ],
      "metadata": {
        "colab": {
          "base_uri": "https://localhost:8080/",
          "height": 355
        },
        "id": "Hhg-f3KyJfrj",
        "outputId": "4d7db7ef-1951-4d39-e498-44470c2a8a59"
      },
      "execution_count": 20,
      "outputs": [
        {
          "output_type": "display_data",
          "data": {
            "text/plain": [
              "<Figure size 1200x600 with 2 Axes>"
            ],
            "image/png": "[encoded data removed]"
          },
          "metadata": {}
        }
      ]
    },
    {
      "cell_type": "code",
      "source": [
        "import tensorflow as tf\n",
        "\n",
        "# Evaluate model on test set\n",
        "test_loss, test_accuracy = model.evaluate(X_test_padded, y_test_padded, verbose=0, batch_size=8)\n",
        "print(f\"Test Loss: {test_loss:.4f}, Test Accuracy: {test_accuracy:.4f}\")\n",
        "\n",
        "# Predict on test set\n",
        "predictions = model.predict(X_test_padded[:50], batch_size=8)\n",
        "\n",
        "# Convert predictions back to text\n",
        "predicted_sentences = []\n",
        "for pred in predictions:\n",
        "    predicted_indices = np.argmax(pred, axis=-1)\n",
        "    predicted_sentence = ' '.join(\n",
        "        [tokenizer.index_word.get(idx, '') for idx in predicted_indices if idx != 0]\n",
        "    )\n",
        "    predicted_sentences.append(predicted_sentence)\n"
      ],
      "metadata": {
        "colab": {
          "base_uri": "https://localhost:8080/"
        },
        "id": "DN_6hHuUNFFV",
        "outputId": "e28bf364-5d41-4ee0-bf2e-752e02ee1082"
      },
      "execution_count": 21,
      "outputs": [
        {
          "output_type": "stream",
          "name": "stdout",
          "text": [
            "Test Loss: 1.0697, Test Accuracy: 0.8384\n",
            "\u001b[1m7/7\u001b[0m \u001b[32m━━━━━━━━━━━━━━━━━━━━\u001b[0m\u001b[37m\u001b[0m \u001b[1m1s\u001b[0m 81ms/step\n"
          ]
        }
      ]
    },
    {
      "cell_type": "code",
      "source": [
        "\n",
        "smooth = SmoothingFunction()\n",
        "bleu_scores = [\n",
        "    sentence_bleu(\n",
        "        [y_test[:50].iloc[i].split()],  # Reference\n",
        "        predicted_sentences[i].split(),  # Prediction\n",
        "        smoothing_function=smooth.method1\n",
        "    )\n",
        "    for i in range(len(y_test[:50]))\n",
        "]\n",
        "\n",
        "# Average BLEU score\n",
        "average_bleu = np.mean(bleu_scores)\n",
        "print(f\"Average BLEU Score on Test Set: {average_bleu:.4f}\")\n",
        "\n",
        "for i in range(10,20):  # Show 5 samples\n",
        "    input_sentence = X_test.iloc[i]\n",
        "    reference_sentence = y_test.iloc[i]\n",
        "    predicted_sentence = predicted_sentences[i]\n",
        "\n",
        "    # Calculate BLEU score\n",
        "    reference_tokens = [reference_sentence.split()]\n",
        "    predicted_tokens = predicted_sentence.split()\n",
        "    bleu_score = sentence_bleu(reference_tokens, predicted_tokens, smoothing_function=smooth.method1)\n",
        "    bleu_scores.append(bleu_score)\n",
        "\n",
        "    # Display results\n",
        "    print(f\"Input: {input_sentence}\")\n",
        "    print(f\"Reference: {reference_sentence}\")\n",
        "    print(f\"Prediction: {predicted_sentence}\")\n",
        "    print(f\"BLEU Score: {bleu_score:.4f}\")\n",
        "    print(\"-\" * 50)\n",
        "\n",
        "# Calculate and print average BLEU score for the displayed samples\n",
        "average_bleu = sum(bleu_scores) / len(bleu_scores)\n",
        "print(f\"Average BLEU Score for Displayed Samples: {average_bleu:.4f}\")"
      ],
      "metadata": {
        "colab": {
          "base_uri": "https://localhost:8080/"
        },
        "id": "rrXQqEHBNqDQ",
        "outputId": "320466e8-f5b6-4836-a2df-6481935bba3e"
      },
      "execution_count": 22,
      "outputs": [
        {
          "output_type": "stream",
          "name": "stdout",
          "text": [
            "Average BLEU Score on Test Set: 0.0819\n",
            "Input: Yang merupakan 10 film terbaik 2016 & mengapa?\n",
            "Reference: Apa top 10 film Hindi 2016?\n",
            "Prediction: yang merupakan film film terbaik 2016\n",
            "BLEU Score: 0.0408\n",
            "--------------------------------------------------\n",
            "Input: Jika Universe Expands dan Vacuum Energy dibuat dengannya (tanpa batas), apakah ada energi potensial yang tak terbatas / energi vakum tak terbatas yang dapat dibuat?\n",
            "Reference: Jika energi dibuat dan tidak dilestarikan dalam alam semesta yang berkembang (yang mengembang tanpa batas) dapatkah energi tak terbatas diciptakan?\n",
            "Prediction: jika energi gelap dan dibuat dan dibuat terbatas terbatas energi ada\n",
            "BLEU Score: 0.0221\n",
            "--------------------------------------------------\n",
            "Input: Topik mana di Quora yang paling populer dan memiliki pengikut terbanyak?\n",
            "Reference: Apa 50 topik dengan pengikut paling banyak di Quora?\n",
            "Prediction: topik mana terbaik di yang\n",
            "BLEU Score: 0.0287\n",
            "--------------------------------------------------\n",
            "Input: Apa itu Kriteria Kelayakan untuk Mendapatkan Kursi Nit Melalui Kuota Ciwg?\n",
            "Reference: Apa kriteria kelayakan untuk mendapatkan kursi NIT melalui kuota CIWG?\n",
            "Prediction: apa itu hukum mendapatkan\n",
            "BLEU Score: 0.0179\n",
            "--------------------------------------------------\n",
            "Input: Apakah Seinfeld sitkom terbesar yang pernah ada?\n",
            "Reference: Apa saja argumen untuk Seinfeld menjadi salah satu komedi situasi terbesar yang pernah dibuat?\n",
            "Prediction: apakah ada benar dengan yang pernah ada\n",
            "BLEU Score: 0.0257\n",
            "--------------------------------------------------\n",
            "Input: Apakah perjalanan waktu memungkinkan setelah ditemukannya gelombang gravitasi?\n",
            "Reference: Bagaimana mungkin perjalanan waktu?\n",
            "Prediction: apakah perjalanan waktu waktu waktu ke\n",
            "BLEU Score: 0.0408\n",
            "--------------------------------------------------\n",
            "Input: Perbedaan antara diskonnector dan pemutus sirkuit?\n",
            "Reference: Apa perbedaan utama antara pemotongan dan pemutus sirkuit untuk: a) fungsi yang dimaksud? B) Breaking arus kesalahan?\n",
            "Prediction: perbedaan perbedaan antara antara asin\n",
            "BLEU Score: 0.0058\n",
            "--------------------------------------------------\n",
            "Input: Yang merupakan seri lari terpanjang sampai sekarang?\n",
            "Reference: Apa seri lari terpanjang dalam sejarah televisi?\n",
            "Prediction: yang merupakan terbaik yang di di di\n",
            "BLEU Score: 0.0000\n",
            "--------------------------------------------------\n",
            "Input: Apakah ada keturunan orang Mesir kuno?\n",
            "Reference: Siapa keturunan Mesir Kuno?\n",
            "Prediction: apakah ada basis orang orang kuno\n",
            "BLEU Score: 0.0000\n",
            "--------------------------------------------------\n",
            "Input: Mengapa Pokemon tidak berfungsi?\n",
            "Reference: Mengapa Pokemon pergi tiba-tiba berhenti bekerja di India?\n",
            "Prediction: mengapa pokemon tidak di\n",
            "BLEU Score: 0.0296\n",
            "--------------------------------------------------\n",
            "Average BLEU Score for Displayed Samples: 0.0718\n"
          ]
        }
      ]
    },
    {
      "cell_type": "code",
      "source": [
        "# Menyimpan model\n",
        "# model.save('paraphrase_model.h5')\n"
      ],
      "metadata": {
        "id": "1bYjjIzxXmT0"
      },
      "execution_count": null,
      "outputs": []
    },
    {
      "cell_type": "code",
      "source": [
        "datatest = {\n",
        "    'question': [\n",
        "        \"Apa manfaat yoga untuk kesehatan?\",\n",
        "        \"Bagaimana cara membuat kue cokelat?\",\n",
        "        \"Mengapa penting untuk tidur cukup?\",\n",
        "        \"Apa perbedaan antara data dan informasi?\",\n",
        "        \"Apa yang harus dilakukan agar lebih produktif?\",\n",
        "        \"Bagaimana cara menjaga kesehatan jantung?\",\n",
        "        \"Apa saja manfaat belajar bahasa asing?\",\n",
        "        \"Mengapa olahraga penting bagi tubuh?\",\n",
        "        \"Apa itu ekonomi digital?\",\n",
        "        \"Apa yang dimaksud dengan kecerdasan buatan?\"\n",
        "    ],\n",
        "    'reference': [\n",
        "        \"Apa saja manfaat yoga bagi kesehatan tubuh?\",\n",
        "        \"Apa langkah-langkah untuk membuat kue cokelat?\",\n",
        "        \"Mengapa tidur yang cukup sangat penting untuk tubuh?\",\n",
        "        \"Apa yang membedakan antara data dan informasi?\",\n",
        "        \"Apa saja tips agar lebih produktif dalam bekerja?\",\n",
        "        \"Apa yang harus dilakukan untuk menjaga kesehatan jantung?\",\n",
        "        \"Apa keuntungan yang didapatkan dari belajar bahasa asing?\",\n",
        "        \"Apa alasan olahraga sangat penting untuk kesehatan tubuh?\",\n",
        "        \"Bagaimana ekonomi digital memengaruhi kehidupan kita?\",\n",
        "        \"Apa itu AI dan bagaimana cara kerjanya?\"\n",
        "    ]\n",
        "}"
      ],
      "metadata": {
        "id": "aPzTdZRjXyID"
      },
      "execution_count": null,
      "outputs": []
    },
    {
      "cell_type": "code",
      "source": [
        "# Membuat DataFrame\n",
        "df2 = pd.DataFrame(datatest)\n",
        "\n",
        "# Preprocessing data\n",
        "tokenizer = Tokenizer()\n",
        "tokenizer.fit_on_texts(df2['question'].tolist() + df2['reference'].tolist())  # Gabungkan kedua kolom untuk pelatihan tokenizer\n",
        "max_length = max(df2['question'].apply(lambda x: len(x.split())).max(),\n",
        "                 df2['reference'].apply(lambda x: len(x.split())).max())\n",
        "\n",
        "# Tokenisasi input dan referensi\n",
        "question_seq = tokenizer.texts_to_sequences(df2['question'].tolist())\n",
        "reference_seq = tokenizer.texts_to_sequences(df2['reference'].tolist())\n",
        "\n",
        "question_padded = pad_sequences(question_seq, maxlen=max_length, padding='post')\n",
        "reference_padded = pad_sequences(reference_seq, maxlen=max_length, padding='post')"
      ],
      "metadata": {
        "id": "ozWYInd5X5Af"
      },
      "execution_count": null,
      "outputs": []
    },
    {
      "cell_type": "code",
      "source": [
        "# from tensorflow.keras.models import load_model\n",
        "# model = load_model('paraphrase_model.h5')  # Ganti dengan path model Anda"
      ],
      "metadata": {
        "id": "NaG1cZdkYQTa"
      },
      "execution_count": null,
      "outputs": []
    },
    {
      "cell_type": "code",
      "source": [
        "# Fungsi untuk memprediksi parafrase\n",
        "def predict_paraphrase(input_text, model_use):\n",
        "    input_seq = tokenizer.texts_to_sequences([input_text])\n",
        "    input_padded = pad_sequences(input_seq, maxlen=max_length, padding='post')\n",
        "    prediction = model_use.predict(input_padded)\n",
        "\n",
        "    # Ambil prediksi dengan nilai tertinggi (berdasarkan probabilitas)\n",
        "    predicted_tokens = np.argmax(prediction, axis=-1)[0]\n",
        "\n",
        "    # Mengonversi kembali token menjadi teks\n",
        "    predicted_text = tokenizer.sequences_to_texts([predicted_tokens])[0]\n",
        "    return predicted_text\n",
        "\n",
        "# Menggunakan SmoothingFunction untuk BLEU score\n",
        "smoothing = SmoothingFunction().method1\n",
        "\n",
        "# Melakukan prediksi dan menghitung BLEU score untuk setiap kalimat dalam DataFrame\n",
        "for i in range(len(df2)):\n",
        "    input_question = df2['question'][i]\n",
        "    reference_paraphrase = df2['reference'][i]\n",
        "\n",
        "    # Prediksi parafrase\n",
        "    predicted_paraphrase = predict_paraphrase(input_question, model)\n",
        "\n",
        "    # Tokenisasi referensi dan hasil prediksi untuk BLEU score\n",
        "    reference_tokens = tokenizer.texts_to_sequences([reference_paraphrase])[0]\n",
        "    predicted_tokens = tokenizer.texts_to_sequences([predicted_paraphrase])[0]\n",
        "\n",
        "    # Menghitung BLEU score\n",
        "    bleu_score = sentence_bleu([reference_tokens], predicted_tokens, smoothing_function=smoothing)\n",
        "\n",
        "    # Menampilkan hasil\n",
        "    print(f\"Pertanyaan: {input_question}\")\n",
        "    print(f\"Parafrase yang diprediksi: {predicted_paraphrase}\")\n",
        "    print(f\"Referensi: {reference_paraphrase}\")\n",
        "    print(f\"BLEU score: {bleu_score:.4f}\")\n",
        "    print(\"-\" * 50)"
      ],
      "metadata": {
        "colab": {
          "base_uri": "https://localhost:8080/"
        },
        "id": "Qi_R1-f1YdJT",
        "outputId": "0197bcdf-19fb-47bc-84ee-c8673fad6951"
      },
      "execution_count": null,
      "outputs": [
        {
          "output_type": "stream",
          "name": "stdout",
          "text": [
            "\u001b[1m1/1\u001b[0m \u001b[32m━━━━━━━━━━━━━━━━━━━━\u001b[0m\u001b[37m\u001b[0m \u001b[1m0s\u001b[0m 20ms/step\n",
            "Pertanyaan: Apa manfaat yoga untuk kesehatan?\n",
            "Parafrase yang diprediksi: apa untuk cara untuk\n",
            "Referensi: Apa saja manfaat yoga bagi kesehatan tubuh?\n",
            "BLEU score: 0.0380\n",
            "--------------------------------------------------\n",
            "\u001b[1m1/1\u001b[0m \u001b[32m━━━━━━━━━━━━━━━━━━━━\u001b[0m\u001b[37m\u001b[0m \u001b[1m0s\u001b[0m 17ms/step\n",
            "Pertanyaan: Bagaimana cara membuat kue cokelat?\n",
            "Parafrase yang diprediksi: apa perbedaan cara cara cokelat\n",
            "Referensi: Apa langkah-langkah untuk membuat kue cokelat?\n",
            "BLEU score: 0.0428\n",
            "--------------------------------------------------\n",
            "\u001b[1m1/1\u001b[0m \u001b[32m━━━━━━━━━━━━━━━━━━━━\u001b[0m\u001b[37m\u001b[0m \u001b[1m0s\u001b[0m 15ms/step\n",
            "Pertanyaan: Mengapa penting untuk tidur cukup?\n",
            "Parafrase yang diprediksi: ekonomi penting untuk tidur penting\n",
            "Referensi: Mengapa tidur yang cukup sangat penting untuk tubuh?\n",
            "BLEU score: 0.0690\n",
            "--------------------------------------------------\n",
            "\u001b[1m1/1\u001b[0m \u001b[32m━━━━━━━━━━━━━━━━━━━━\u001b[0m\u001b[37m\u001b[0m \u001b[1m0s\u001b[0m 15ms/step\n",
            "Pertanyaan: Apa perbedaan antara data dan informasi?\n",
            "Parafrase yang diprediksi: apa perbedaan antara data dan\n",
            "Referensi: Apa yang membedakan antara data dan informasi?\n",
            "BLEU score: 0.1915\n",
            "--------------------------------------------------\n",
            "\u001b[1m1/1\u001b[0m \u001b[32m━━━━━━━━━━━━━━━━━━━━\u001b[0m\u001b[37m\u001b[0m \u001b[1m0s\u001b[0m 16ms/step\n",
            "Pertanyaan: Apa yang harus dilakukan agar lebih produktif?\n",
            "Parafrase yang diprediksi: apa yang mengapa untuk untuk bagaimana bagaimana\n",
            "Referensi: Apa saja tips agar lebih produktif dalam bekerja?\n",
            "BLEU score: 0.0286\n",
            "--------------------------------------------------\n",
            "\u001b[1m1/1\u001b[0m \u001b[32m━━━━━━━━━━━━━━━━━━━━\u001b[0m\u001b[37m\u001b[0m \u001b[1m0s\u001b[0m 18ms/step\n",
            "Pertanyaan: Bagaimana cara menjaga kesehatan jantung?\n",
            "Parafrase yang diprediksi: apa perbedaan cara bagaimana cara\n",
            "Referensi: Apa yang harus dilakukan untuk menjaga kesehatan jantung?\n",
            "BLEU score: 0.0295\n",
            "--------------------------------------------------\n",
            "\u001b[1m1/1\u001b[0m \u001b[32m━━━━━━━━━━━━━━━━━━━━\u001b[0m\u001b[37m\u001b[0m \u001b[1m0s\u001b[0m 17ms/step\n",
            "Pertanyaan: Apa saja manfaat belajar bahasa asing?\n",
            "Parafrase yang diprediksi: apa saja mengapa bagaimana\n",
            "Referensi: Apa keuntungan yang didapatkan dari belajar bahasa asing?\n",
            "BLEU score: 0.0296\n",
            "--------------------------------------------------\n",
            "\u001b[1m1/1\u001b[0m \u001b[32m━━━━━━━━━━━━━━━━━━━━\u001b[0m\u001b[37m\u001b[0m \u001b[1m0s\u001b[0m 16ms/step\n",
            "Pertanyaan: Mengapa olahraga penting bagi tubuh?\n",
            "Parafrase yang diprediksi: ekonomi olahraga olahraga olahraga cokelat\n",
            "Referensi: Apa alasan olahraga sangat penting untuk kesehatan tubuh?\n",
            "BLEU score: 0.0295\n",
            "--------------------------------------------------\n",
            "\u001b[1m1/1\u001b[0m \u001b[32m━━━━━━━━━━━━━━━━━━━━\u001b[0m\u001b[37m\u001b[0m \u001b[1m0s\u001b[0m 17ms/step\n",
            "Pertanyaan: Apa itu ekonomi digital?\n",
            "Parafrase yang diprediksi: apa saja ekonomi itu\n",
            "Referensi: Bagaimana ekonomi digital memengaruhi kehidupan kita?\n",
            "BLEU score: 0.0487\n",
            "--------------------------------------------------\n",
            "\u001b[1m1/1\u001b[0m \u001b[32m━━━━━━━━━━━━━━━━━━━━\u001b[0m\u001b[37m\u001b[0m \u001b[1m0s\u001b[0m 15ms/step\n",
            "Pertanyaan: Apa yang dimaksud dengan kecerdasan buatan?\n",
            "Parafrase yang diprediksi: apa yang dimaksud cara untuk untuk\n",
            "Referensi: Apa itu AI dan bagaimana cara kerjanya?\n",
            "BLEU score: 0.0411\n",
            "--------------------------------------------------\n"
          ]
        }
      ]
    },
    {
      "cell_type": "code",
      "source": [
        "# Preprocessing input\n",
        "input_padded = \"sehat itu mahal\"  # Ganti dengan kalimat yang lebih sederhana\n",
        "\n",
        "input_seq = tokenizer.texts_to_sequences([input_padded])\n",
        "input_padded = pad_sequences(input_seq, maxlen=max_length, padding='post')\n",
        "\n",
        "# Menghasilkan prediksi\n",
        "predicted = model.predict(input_padded)\n",
        "\n",
        "# Mengecek output prediksi\n",
        "# print(\"Predicted probabilities:\", predicted)\n",
        "\n",
        "# Ambil kata dengan probabilitas tertinggi untuk setiap langkah\n",
        "predicted_indices = np.argmax(predicted, axis=-1)\n",
        "\n",
        "# Konversi indeks ke kata\n",
        "predicted_words = [tokenizer.index_word.get(index, '') for index in predicted_indices[0]]\n",
        "\n",
        "# Gabungkan kata-kata menjadi satu kalimat\n",
        "parafrase = ' '.join(predicted_words).replace('  ', ' ').strip()\n",
        "\n",
        "print(\"Parafrase:\", parafrase)"
      ],
      "metadata": {
        "colab": {
          "base_uri": "https://localhost:8080/"
        },
        "id": "YwLS99TaZF39",
        "outputId": "43a9f7c8-8fc1-40aa-8a42-e7b26be0d289"
      },
      "execution_count": null,
      "outputs": [
        {
          "output_type": "stream",
          "name": "stdout",
          "text": [
            "\u001b[1m1/1\u001b[0m \u001b[32m━━━━━━━━━━━━━━━━━━━━\u001b[0m\u001b[37m\u001b[0m \u001b[1m0s\u001b[0m 16ms/step\n",
            "Parafrase: apa untuk mengapa itu\n"
          ]
        }
      ]
    },
    {
      "cell_type": "code",
      "source": [
        "# Kalimat referensi yang benar (misalnya, kalimat asli atau kalimat parafrase yang diinginkan)\n",
        "reference = \"kesehatan itu mahal\"  # Ganti dengan kalimat referensi yang sesuai\n",
        "\n",
        "# Menghitung BLEU score\n",
        "reference_tokens = reference.split()  # Tokenisasi kalimat referensi\n",
        "predicted_tokens = parafrase.split()  # Tokenisasi kalimat hasil prediksi\n",
        "\n",
        "# Menghitung BLEU score\n",
        "bleu_score = sentence_bleu([reference_tokens], predicted_tokens)\n",
        "\n",
        "print(\"BLEU Score:\", bleu_score)"
      ],
      "metadata": {
        "id": "WBd_SLllgGmq",
        "colab": {
          "base_uri": "https://localhost:8080/"
        },
        "outputId": "e0777331-38e3-406a-ff19-d982a54160a7"
      },
      "execution_count": null,
      "outputs": [
        {
          "output_type": "stream",
          "name": "stdout",
          "text": [
            "BLEU Score: 1.2882297539194154e-231\n"
          ]
        },
        {
          "output_type": "stream",
          "name": "stderr",
          "text": [
            "/usr/local/lib/python3.10/dist-packages/nltk/translate/bleu_score.py:577: UserWarning: \n",
            "The hypothesis contains 0 counts of 2-gram overlaps.\n",
            "Therefore the BLEU score evaluates to 0, independently of\n",
            "how many N-gram overlaps of lower order it contains.\n",
            "Consider using lower n-gram order or use SmoothingFunction()\n",
            "  warnings.warn(_msg)\n"
          ]
        }
      ]
    },
    {
      "cell_type": "code",
      "source": [
        "# Preprocessing input\n",
        "input_padded = \"kenapa kita harus belajar\"  # Ganti dengan kalimat yang lebih sederhana\n",
        "\n",
        "input_seq = tokenizer.texts_to_sequences([input_padded])\n",
        "input_padded = pad_sequences(input_seq, maxlen=max_length, padding='post')\n",
        "\n",
        "# Menghasilkan prediksi\n",
        "predicted = model.predict(input_padded)\n",
        "\n",
        "# Mengecek output prediksi\n",
        "# print(\"Predicted probabilities:\", predicted)\n",
        "\n",
        "# Ambil kata dengan probabilitas tertinggi untuk setiap langkah\n",
        "predicted_indices = np.argmax(predicted, axis=-1)\n",
        "\n",
        "# Konversi indeks ke kata\n",
        "predicted_words = [tokenizer.index_word.get(index, '') for index in predicted_indices[0]]\n",
        "\n",
        "# Gabungkan kata-kata menjadi satu kalimat\n",
        "parafrase = ' '.join(predicted_words).replace('  ', ' ').strip()\n",
        "\n",
        "print(\"Parafrase:\", parafrase)"
      ],
      "metadata": {
        "id": "aJ1TqmAXgWSR",
        "colab": {
          "base_uri": "https://localhost:8080/"
        },
        "outputId": "9a3b7ba6-0071-4e35-8fbc-c395b31e6f7e"
      },
      "execution_count": null,
      "outputs": [
        {
          "output_type": "stream",
          "name": "stdout",
          "text": [
            "\u001b[1m1/1\u001b[0m \u001b[32m━━━━━━━━━━━━━━━━━━━━\u001b[0m\u001b[37m\u001b[0m \u001b[1m0s\u001b[0m 15ms/step\n",
            "Parafrase: apa untuk ekonomi penting\n"
          ]
        }
      ]
    },
    {
      "cell_type": "code",
      "source": [
        "# Kalimat referensi yang benar (misalnya, kalimat asli atau kalimat parafrase yang diinginkan)\n",
        "reference = \"mengapa kita harus belajar\"  # Ganti dengan kalimat referensi yang sesuai\n",
        "\n",
        "# Menghitung BLEU score\n",
        "reference_tokens = reference.split()  # Tokenisasi kalimat referensi\n",
        "predicted_tokens = parafrase.split()  # Tokenisasi kalimat hasil prediksi\n",
        "\n",
        "# Menghitung BLEU score\n",
        "bleu_score = sentence_bleu([reference_tokens], predicted_tokens)\n",
        "\n",
        "print(\"BLEU Score:\", bleu_score)"
      ],
      "metadata": {
        "id": "GLw-07n2gXOI",
        "colab": {
          "base_uri": "https://localhost:8080/"
        },
        "outputId": "225c4add-d8c3-4b6e-8211-199bc58428b4"
      },
      "execution_count": null,
      "outputs": [
        {
          "output_type": "stream",
          "name": "stdout",
          "text": [
            "BLEU Score: 0\n"
          ]
        }
      ]
    },
    {
      "cell_type": "code",
      "source": [
        "model2 = Sequential([\n",
        "    Embedding(input_dim=vocab_size, output_dim=embedding_dim, input_length=max_length),\n",
        "    SimpleRNN(64, return_sequences=True),\n",
        "    Dropout(0.2),\n",
        "    SimpleRNN(128, return_sequences=True),\n",
        "    Dropout(0.2),\n",
        "    Dense(vocab_size, activation='softmax')\n",
        "])\n",
        "\n",
        "# Compile Model\n",
        "model2.compile(optimizer=Adam(learning_rate=0.001), loss='sparse_categorical_crossentropy', metrics=['accuracy'])\n",
        "\n",
        "checkpoint = ModelCheckpoint(\n",
        "    filepath='best_model2_SimpleRNN_{val_accuracy:.4f}.keras',  # Filepath to save the model\n",
        "    monitor='val_accuracy',    # Metric to monitor\n",
        "    save_best_only=True,       # Save only the best model\n",
        "    mode='max',                # 'max' because we want the highest val_accuracy\n",
        "    verbose=1\n",
        ")\n",
        "# Early Stopping untuk mencegah overfitting\n",
        "early_stopping = EarlyStopping(monitor='val_loss', patience=3, restore_best_weights=True)\n",
        "\n",
        "# Train the Model\n",
        "history2 = model2.fit(X_padded, y_padded, epochs=50, batch_size=32, validation_split=0.2, callbacks=[early_stopping, checkpoint])\n",
        "model.summary()"
      ],
      "metadata": {
        "id": "szNHD8gBgYBo",
        "colab": {
          "base_uri": "https://localhost:8080/",
          "height": 1000
        },
        "outputId": "4d92822d-045d-4775-fce1-b67e88de0a95"
      },
      "execution_count": null,
      "outputs": [
        {
          "output_type": "stream",
          "name": "stdout",
          "text": [
            "Epoch 1/50\n"
          ]
        },
        {
          "output_type": "stream",
          "name": "stderr",
          "text": [
            "/usr/local/lib/python3.10/dist-packages/keras/src/layers/core/embedding.py:90: UserWarning: Argument `input_length` is deprecated. Just remove it.\n",
            "  warnings.warn(\n"
          ]
        },
        {
          "output_type": "stream",
          "name": "stdout",
          "text": [
            "\u001b[1m3353/3353\u001b[0m \u001b[32m━━━━━━━━━━━━━━━━━━━━\u001b[0m\u001b[37m\u001b[0m \u001b[1m0s\u001b[0m 39ms/step - accuracy: 0.8823 - loss: 1.2522\n",
            "Epoch 1: val_accuracy improved from -inf to 0.89765, saving model to best_model2_SimpleRNN_0.8977.keras\n",
            "\u001b[1m3353/3353\u001b[0m \u001b[32m━━━━━━━━━━━━━━━━━━━━\u001b[0m\u001b[37m\u001b[0m \u001b[1m152s\u001b[0m 44ms/step - accuracy: 0.8823 - loss: 1.2521 - val_accuracy: 0.8977 - val_loss: 0.7139\n",
            "Epoch 2/50\n",
            "\u001b[1m3353/3353\u001b[0m \u001b[32m━━━━━━━━━━━━━━━━━━━━\u001b[0m\u001b[37m\u001b[0m \u001b[1m0s\u001b[0m 38ms/step - accuracy: 0.8974 - loss: 0.7037\n",
            "Epoch 2: val_accuracy improved from 0.89765 to 0.90054, saving model to best_model2_SimpleRNN_0.9005.keras\n",
            "\u001b[1m3353/3353\u001b[0m \u001b[32m━━━━━━━━━━━━━━━━━━━━\u001b[0m\u001b[37m\u001b[0m \u001b[1m192s\u001b[0m 42ms/step - accuracy: 0.8974 - loss: 0.7037 - val_accuracy: 0.9005 - val_loss: 0.6639\n",
            "Epoch 3/50\n",
            "\u001b[1m3352/3353\u001b[0m \u001b[32m━━━━━━━━━━━━━━━━━━━\u001b[0m\u001b[37m━\u001b[0m \u001b[1m0s\u001b[0m 39ms/step - accuracy: 0.9000 - loss: 0.6508\n",
            "Epoch 3: val_accuracy improved from 0.90054 to 0.90176, saving model to best_model2_SimpleRNN_0.9018.keras\n",
            "\u001b[1m3353/3353\u001b[0m \u001b[32m━━━━━━━━━━━━━━━━━━━━\u001b[0m\u001b[37m\u001b[0m \u001b[1m152s\u001b[0m 45ms/step - accuracy: 0.9000 - loss: 0.6508 - val_accuracy: 0.9018 - val_loss: 0.6404\n",
            "Epoch 4/50\n",
            "\u001b[1m3353/3353\u001b[0m \u001b[32m━━━━━━━━━━━━━━━━━━━━\u001b[0m\u001b[37m\u001b[0m \u001b[1m0s\u001b[0m 38ms/step - accuracy: 0.9012 - loss: 0.6225\n",
            "Epoch 4: val_accuracy improved from 0.90176 to 0.90223, saving model to best_model2_SimpleRNN_0.9022.keras\n",
            "\u001b[1m3353/3353\u001b[0m \u001b[32m━━━━━━━━━━━━━━━━━━━━\u001b[0m\u001b[37m\u001b[0m \u001b[1m201s\u001b[0m 44ms/step - accuracy: 0.9012 - loss: 0.6225 - val_accuracy: 0.9022 - val_loss: 0.6280\n",
            "Epoch 5/50\n",
            "\u001b[1m3352/3353\u001b[0m \u001b[32m━━━━━━━━━━━━━━━━━━━\u001b[0m\u001b[37m━\u001b[0m \u001b[1m0s\u001b[0m 38ms/step - accuracy: 0.9019 - loss: 0.6051\n",
            "Epoch 5: val_accuracy improved from 0.90223 to 0.90273, saving model to best_model2_SimpleRNN_0.9027.keras\n",
            "\u001b[1m3353/3353\u001b[0m \u001b[32m━━━━━━━━━━━━━━━━━━━━\u001b[0m\u001b[37m\u001b[0m \u001b[1m195s\u001b[0m 42ms/step - accuracy: 0.9019 - loss: 0.6051 - val_accuracy: 0.9027 - val_loss: 0.6210\n",
            "Epoch 6/50\n",
            "\u001b[1m3352/3353\u001b[0m \u001b[32m━━━━━━━━━━━━━━━━━━━\u001b[0m\u001b[37m━\u001b[0m \u001b[1m0s\u001b[0m 39ms/step - accuracy: 0.9025 - loss: 0.5902\n",
            "Epoch 6: val_accuracy improved from 0.90273 to 0.90308, saving model to best_model2_SimpleRNN_0.9031.keras\n",
            "\u001b[1m3353/3353\u001b[0m \u001b[32m━━━━━━━━━━━━━━━━━━━━\u001b[0m\u001b[37m\u001b[0m \u001b[1m143s\u001b[0m 43ms/step - accuracy: 0.9025 - loss: 0.5902 - val_accuracy: 0.9031 - val_loss: 0.6148\n",
            "Epoch 7/50\n",
            "\u001b[1m3352/3353\u001b[0m \u001b[32m━━━━━━━━━━━━━━━━━━━\u001b[0m\u001b[37m━\u001b[0m \u001b[1m0s\u001b[0m 38ms/step - accuracy: 0.9027 - loss: 0.5803\n",
            "Epoch 7: val_accuracy improved from 0.90308 to 0.90338, saving model to best_model2_SimpleRNN_0.9034.keras\n",
            "\u001b[1m3353/3353\u001b[0m \u001b[32m━━━━━━━━━━━━━━━━━━━━\u001b[0m\u001b[37m\u001b[0m \u001b[1m208s\u001b[0m 44ms/step - accuracy: 0.9027 - loss: 0.5803 - val_accuracy: 0.9034 - val_loss: 0.6089\n",
            "Epoch 8/50\n",
            "\u001b[1m3353/3353\u001b[0m \u001b[32m━━━━━━━━━━━━━━━━━━━━\u001b[0m\u001b[37m\u001b[0m \u001b[1m0s\u001b[0m 38ms/step - accuracy: 0.9033 - loss: 0.5709\n",
            "Epoch 8: val_accuracy did not improve from 0.90338\n",
            "\u001b[1m3353/3353\u001b[0m \u001b[32m━━━━━━━━━━━━━━━━━━━━\u001b[0m\u001b[37m\u001b[0m \u001b[1m202s\u001b[0m 45ms/step - accuracy: 0.9033 - loss: 0.5709 - val_accuracy: 0.9034 - val_loss: 0.6079\n",
            "Epoch 9/50\n",
            "\u001b[1m3353/3353\u001b[0m \u001b[32m━━━━━━━━━━━━━━━━━━━━\u001b[0m\u001b[37m\u001b[0m \u001b[1m0s\u001b[0m 39ms/step - accuracy: 0.9041 - loss: 0.5607\n",
            "Epoch 9: val_accuracy improved from 0.90338 to 0.90369, saving model to best_model2_SimpleRNN_0.9037.keras\n",
            "\u001b[1m3353/3353\u001b[0m \u001b[32m━━━━━━━━━━━━━━━━━━━━\u001b[0m\u001b[37m\u001b[0m \u001b[1m196s\u001b[0m 43ms/step - accuracy: 0.9041 - loss: 0.5607 - val_accuracy: 0.9037 - val_loss: 0.6046\n",
            "Epoch 10/50\n",
            "\u001b[1m3352/3353\u001b[0m \u001b[32m━━━━━━━━━━━━━━━━━━━\u001b[0m\u001b[37m━\u001b[0m \u001b[1m0s\u001b[0m 39ms/step - accuracy: 0.9041 - loss: 0.5568\n",
            "Epoch 10: val_accuracy did not improve from 0.90369\n",
            "\u001b[1m3353/3353\u001b[0m \u001b[32m━━━━━━━━━━━━━━━━━━━━\u001b[0m\u001b[37m\u001b[0m \u001b[1m201s\u001b[0m 42ms/step - accuracy: 0.9041 - loss: 0.5568 - val_accuracy: 0.9036 - val_loss: 0.6040\n",
            "Epoch 11/50\n",
            "\u001b[1m3353/3353\u001b[0m \u001b[32m━━━━━━━━━━━━━━━━━━━━\u001b[0m\u001b[37m\u001b[0m \u001b[1m0s\u001b[0m 39ms/step - accuracy: 0.9047 - loss: 0.5484\n",
            "Epoch 11: val_accuracy did not improve from 0.90369\n",
            "\u001b[1m3353/3353\u001b[0m \u001b[32m━━━━━━━━━━━━━━━━━━━━\u001b[0m\u001b[37m\u001b[0m \u001b[1m202s\u001b[0m 42ms/step - accuracy: 0.9047 - loss: 0.5484 - val_accuracy: 0.9033 - val_loss: 0.6026\n",
            "Epoch 12/50\n",
            "\u001b[1m3352/3353\u001b[0m \u001b[32m━━━━━━━━━━━━━━━━━━━\u001b[0m\u001b[37m━\u001b[0m \u001b[1m0s\u001b[0m 39ms/step - accuracy: 0.9047 - loss: 0.5459\n",
            "Epoch 12: val_accuracy did not improve from 0.90369\n",
            "\u001b[1m3353/3353\u001b[0m \u001b[32m━━━━━━━━━━━━━━━━━━━━\u001b[0m\u001b[37m\u001b[0m \u001b[1m210s\u001b[0m 45ms/step - accuracy: 0.9047 - loss: 0.5459 - val_accuracy: 0.9037 - val_loss: 0.6002\n",
            "Epoch 13/50\n",
            "\u001b[1m3352/3353\u001b[0m \u001b[32m━━━━━━━━━━━━━━━━━━━\u001b[0m\u001b[37m━\u001b[0m \u001b[1m0s\u001b[0m 39ms/step - accuracy: 0.9048 - loss: 0.5424\n",
            "Epoch 13: val_accuracy improved from 0.90369 to 0.90377, saving model to best_model2_SimpleRNN_0.9038.keras\n",
            "\u001b[1m3353/3353\u001b[0m \u001b[32m━━━━━━━━━━━━━━━━━━━━\u001b[0m\u001b[37m\u001b[0m \u001b[1m203s\u001b[0m 45ms/step - accuracy: 0.9048 - loss: 0.5424 - val_accuracy: 0.9038 - val_loss: 0.6009\n",
            "Epoch 14/50\n",
            "\u001b[1m3352/3353\u001b[0m \u001b[32m━━━━━━━━━━━━━━━━━━━\u001b[0m\u001b[37m━\u001b[0m \u001b[1m0s\u001b[0m 39ms/step - accuracy: 0.9051 - loss: 0.5379\n",
            "Epoch 14: val_accuracy did not improve from 0.90377\n",
            "\u001b[1m3353/3353\u001b[0m \u001b[32m━━━━━━━━━━━━━━━━━━━━\u001b[0m\u001b[37m\u001b[0m \u001b[1m194s\u001b[0m 43ms/step - accuracy: 0.9051 - loss: 0.5379 - val_accuracy: 0.9034 - val_loss: 0.6013\n",
            "Epoch 15/50\n",
            "\u001b[1m3352/3353\u001b[0m \u001b[32m━━━━━━━━━━━━━━━━━━━\u001b[0m\u001b[37m━\u001b[0m \u001b[1m0s\u001b[0m 39ms/step - accuracy: 0.9056 - loss: 0.5328\n",
            "Epoch 15: val_accuracy improved from 0.90377 to 0.90383, saving model to best_model2_SimpleRNN_0.9038.keras\n",
            "\u001b[1m3353/3353\u001b[0m \u001b[32m━━━━━━━━━━━━━━━━━━━━\u001b[0m\u001b[37m\u001b[0m \u001b[1m202s\u001b[0m 43ms/step - accuracy: 0.9056 - loss: 0.5328 - val_accuracy: 0.9038 - val_loss: 0.6036\n"
          ]
        },
        {
          "output_type": "display_data",
          "data": {
            "text/plain": [
              "\u001b[1mModel: \"sequential_1\"\u001b[0m\n"
            ],
            "text/html": [
              "<pre style=\"white-space:pre;overflow-x:auto;line-height:normal;font-family:Menlo,'DejaVu Sans Mono',consolas,'Courier New',monospace\"><span style=\"font-weight: bold\">Model: \"sequential_1\"</span>\n",
              "</pre>\n"
            ]
          },
          "metadata": {}
        },
        {
          "output_type": "display_data",
          "data": {
            "text/plain": [
              "┏━━━━━━━━━━━━━━━━━━━━━━━━━━━━━━━━━━━━━━┳━━━━━━━━━━━━━━━━━━━━━━━━━━━━━┳━━━━━━━━━━━━━━━━━┓\n",
              "┃\u001b[1m \u001b[0m\u001b[1mLayer (type)                        \u001b[0m\u001b[1m \u001b[0m┃\u001b[1m \u001b[0m\u001b[1mOutput Shape               \u001b[0m\u001b[1m \u001b[0m┃\u001b[1m \u001b[0m\u001b[1m        Param #\u001b[0m\u001b[1m \u001b[0m┃\n",
              "┡━━━━━━━━━━━━━━━━━━━━━━━━━━━━━━━━━━━━━━╇━━━━━━━━━━━━━━━━━━━━━━━━━━━━━╇━━━━━━━━━━━━━━━━━┩\n",
              "│ embedding_1 (\u001b[38;5;33mEmbedding\u001b[0m)              │ (\u001b[38;5;45mNone\u001b[0m, \u001b[38;5;34m72\u001b[0m, \u001b[38;5;34m100\u001b[0m)             │       \u001b[38;5;34m2,621,500\u001b[0m │\n",
              "├──────────────────────────────────────┼─────────────────────────────┼─────────────────┤\n",
              "│ simple_rnn_1 (\u001b[38;5;33mSimpleRNN\u001b[0m)             │ (\u001b[38;5;45mNone\u001b[0m, \u001b[38;5;34m72\u001b[0m, \u001b[38;5;34m64\u001b[0m)              │          \u001b[38;5;34m10,560\u001b[0m │\n",
              "├──────────────────────────────────────┼─────────────────────────────┼─────────────────┤\n",
              "│ dense_1 (\u001b[38;5;33mDense\u001b[0m)                      │ (\u001b[38;5;45mNone\u001b[0m, \u001b[38;5;34m72\u001b[0m, \u001b[38;5;34m26215\u001b[0m)           │       \u001b[38;5;34m1,703,975\u001b[0m │\n",
              "└──────────────────────────────────────┴─────────────────────────────┴─────────────────┘\n"
            ],
            "text/html": [
              "<pre style=\"white-space:pre;overflow-x:auto;line-height:normal;font-family:Menlo,'DejaVu Sans Mono',consolas,'Courier New',monospace\">┏━━━━━━━━━━━━━━━━━━━━━━━━━━━━━━━━━━━━━━┳━━━━━━━━━━━━━━━━━━━━━━━━━━━━━┳━━━━━━━━━━━━━━━━━┓\n",
              "┃<span style=\"font-weight: bold\"> Layer (type)                         </span>┃<span style=\"font-weight: bold\"> Output Shape                </span>┃<span style=\"font-weight: bold\">         Param # </span>┃\n",
              "┡━━━━━━━━━━━━━━━━━━━━━━━━━━━━━━━━━━━━━━╇━━━━━━━━━━━━━━━━━━━━━━━━━━━━━╇━━━━━━━━━━━━━━━━━┩\n",
              "│ embedding_1 (<span style=\"color: #0087ff; text-decoration-color: #0087ff\">Embedding</span>)              │ (<span style=\"color: #00d7ff; text-decoration-color: #00d7ff\">None</span>, <span style=\"color: #00af00; text-decoration-color: #00af00\">72</span>, <span style=\"color: #00af00; text-decoration-color: #00af00\">100</span>)             │       <span style=\"color: #00af00; text-decoration-color: #00af00\">2,621,500</span> │\n",
              "├──────────────────────────────────────┼─────────────────────────────┼─────────────────┤\n",
              "│ simple_rnn_1 (<span style=\"color: #0087ff; text-decoration-color: #0087ff\">SimpleRNN</span>)             │ (<span style=\"color: #00d7ff; text-decoration-color: #00d7ff\">None</span>, <span style=\"color: #00af00; text-decoration-color: #00af00\">72</span>, <span style=\"color: #00af00; text-decoration-color: #00af00\">64</span>)              │          <span style=\"color: #00af00; text-decoration-color: #00af00\">10,560</span> │\n",
              "├──────────────────────────────────────┼─────────────────────────────┼─────────────────┤\n",
              "│ dense_1 (<span style=\"color: #0087ff; text-decoration-color: #0087ff\">Dense</span>)                      │ (<span style=\"color: #00d7ff; text-decoration-color: #00d7ff\">None</span>, <span style=\"color: #00af00; text-decoration-color: #00af00\">72</span>, <span style=\"color: #00af00; text-decoration-color: #00af00\">26215</span>)           │       <span style=\"color: #00af00; text-decoration-color: #00af00\">1,703,975</span> │\n",
              "└──────────────────────────────────────┴─────────────────────────────┴─────────────────┘\n",
              "</pre>\n"
            ]
          },
          "metadata": {}
        },
        {
          "output_type": "display_data",
          "data": {
            "text/plain": [
              "\u001b[1m Total params: \u001b[0m\u001b[38;5;34m13,008,107\u001b[0m (49.62 MB)\n"
            ],
            "text/html": [
              "<pre style=\"white-space:pre;overflow-x:auto;line-height:normal;font-family:Menlo,'DejaVu Sans Mono',consolas,'Courier New',monospace\"><span style=\"font-weight: bold\"> Total params: </span><span style=\"color: #00af00; text-decoration-color: #00af00\">13,008,107</span> (49.62 MB)\n",
              "</pre>\n"
            ]
          },
          "metadata": {}
        },
        {
          "output_type": "display_data",
          "data": {
            "text/plain": [
              "\u001b[1m Trainable params: \u001b[0m\u001b[38;5;34m4,336,035\u001b[0m (16.54 MB)\n"
            ],
            "text/html": [
              "<pre style=\"white-space:pre;overflow-x:auto;line-height:normal;font-family:Menlo,'DejaVu Sans Mono',consolas,'Courier New',monospace\"><span style=\"font-weight: bold\"> Trainable params: </span><span style=\"color: #00af00; text-decoration-color: #00af00\">4,336,035</span> (16.54 MB)\n",
              "</pre>\n"
            ]
          },
          "metadata": {}
        },
        {
          "output_type": "display_data",
          "data": {
            "text/plain": [
              "\u001b[1m Non-trainable params: \u001b[0m\u001b[38;5;34m0\u001b[0m (0.00 B)\n"
            ],
            "text/html": [
              "<pre style=\"white-space:pre;overflow-x:auto;line-height:normal;font-family:Menlo,'DejaVu Sans Mono',consolas,'Courier New',monospace\"><span style=\"font-weight: bold\"> Non-trainable params: </span><span style=\"color: #00af00; text-decoration-color: #00af00\">0</span> (0.00 B)\n",
              "</pre>\n"
            ]
          },
          "metadata": {}
        },
        {
          "output_type": "display_data",
          "data": {
            "text/plain": [
              "\u001b[1m Optimizer params: \u001b[0m\u001b[38;5;34m8,672,072\u001b[0m (33.08 MB)\n"
            ],
            "text/html": [
              "<pre style=\"white-space:pre;overflow-x:auto;line-height:normal;font-family:Menlo,'DejaVu Sans Mono',consolas,'Courier New',monospace\"><span style=\"font-weight: bold\"> Optimizer params: </span><span style=\"color: #00af00; text-decoration-color: #00af00\">8,672,072</span> (33.08 MB)\n",
              "</pre>\n"
            ]
          },
          "metadata": {}
        }
      ]
    },
    {
      "cell_type": "code",
      "source": [
        "# Melakukan prediksi dan menghitung BLEU score untuk setiap kalimat dalam DataFrame\n",
        "for i in range(len(df2)):\n",
        "    input_question = df2['question'][i]\n",
        "    reference_paraphrase = df2['reference'][i]\n",
        "\n",
        "    # Prediksi parafrase\n",
        "    predicted_paraphrase = predict_paraphrase(input_question, model2)\n",
        "\n",
        "    # Tokenisasi referensi dan hasil prediksi untuk BLEU score\n",
        "    reference_tokens = tokenizer.texts_to_sequences([reference_paraphrase])[0]\n",
        "    predicted_tokens = tokenizer.texts_to_sequences([predicted_paraphrase])[0]\n",
        "\n",
        "    # Menghitung BLEU score\n",
        "    bleu_score = sentence_bleu([reference_tokens], predicted_tokens, smoothing_function=smoothing)\n",
        "\n",
        "    # Menampilkan hasil\n",
        "    print(f\"Pertanyaan: {input_question}\")\n",
        "    print(f\"Parafrase yang diprediksi: {predicted_paraphrase}\")\n",
        "    print(f\"Referensi: {reference_paraphrase}\")\n",
        "    print(f\"BLEU score: {bleu_score:.4f}\")\n",
        "    print(\"-\" * 50)"
      ],
      "metadata": {
        "id": "6SilmZaggZRg",
        "colab": {
          "base_uri": "https://localhost:8080/"
        },
        "outputId": "10eda11b-7c15-4066-d3e3-42f02ab3727a"
      },
      "execution_count": null,
      "outputs": [
        {
          "output_type": "stream",
          "name": "stdout",
          "text": [
            "\u001b[1m1/1\u001b[0m \u001b[32m━━━━━━━━━━━━━━━━━━━━\u001b[0m\u001b[37m\u001b[0m \u001b[1m1s\u001b[0m 840ms/step\n",
            "Pertanyaan: Apa manfaat yoga untuk kesehatan?\n",
            "Parafrase yang diprediksi: apa informasi manfaat untuk\n",
            "Referensi: Apa saja manfaat yoga bagi kesehatan tubuh?\n",
            "BLEU score: 0.0451\n",
            "--------------------------------------------------\n",
            "\u001b[1m1/1\u001b[0m \u001b[32m━━━━━━━━━━━━━━━━━━━━\u001b[0m\u001b[37m\u001b[0m \u001b[1m0s\u001b[0m 26ms/step\n",
            "Pertanyaan: Bagaimana cara membuat kue cokelat?\n",
            "Parafrase yang diprediksi: apa yang bagaimana bagaimana kue\n",
            "Referensi: Apa langkah-langkah untuk membuat kue cokelat?\n",
            "BLEU score: 0.0428\n",
            "--------------------------------------------------\n",
            "\u001b[1m1/1\u001b[0m \u001b[32m━━━━━━━━━━━━━━━━━━━━\u001b[0m\u001b[37m\u001b[0m \u001b[1m0s\u001b[0m 26ms/step\n",
            "Pertanyaan: Mengapa penting untuk tidur cukup?\n",
            "Parafrase yang diprediksi: apa belajar untuk tidur penting\n",
            "Referensi: Mengapa tidur yang cukup sangat penting untuk tubuh?\n",
            "BLEU score: 0.0388\n",
            "--------------------------------------------------\n",
            "\u001b[1m1/1\u001b[0m \u001b[32m━━━━━━━━━━━━━━━━━━━━\u001b[0m\u001b[37m\u001b[0m \u001b[1m0s\u001b[0m 24ms/step\n",
            "Pertanyaan: Apa perbedaan antara data dan informasi?\n",
            "Parafrase yang diprediksi: apa perbedaan antara untuk data\n",
            "Referensi: Apa yang membedakan antara data dan informasi?\n",
            "BLEU score: 0.0474\n",
            "--------------------------------------------------\n",
            "\u001b[1m1/1\u001b[0m \u001b[32m━━━━━━━━━━━━━━━━━━━━\u001b[0m\u001b[37m\u001b[0m \u001b[1m0s\u001b[0m 25ms/step\n",
            "Pertanyaan: Apa yang harus dilakukan agar lebih produktif?\n",
            "Parafrase yang diprediksi: apa yang mengapa untuk untuk untuk bagaimana\n",
            "Referensi: Apa saja tips agar lebih produktif dalam bekerja?\n",
            "BLEU score: 0.0286\n",
            "--------------------------------------------------\n",
            "\u001b[1m1/1\u001b[0m \u001b[32m━━━━━━━━━━━━━━━━━━━━\u001b[0m\u001b[37m\u001b[0m \u001b[1m0s\u001b[0m 26ms/step\n",
            "Pertanyaan: Bagaimana cara menjaga kesehatan jantung?\n",
            "Parafrase yang diprediksi: apa yang menjaga menjaga menjaga\n",
            "Referensi: Apa yang harus dilakukan untuk menjaga kesehatan jantung?\n",
            "BLEU score: 0.0690\n",
            "--------------------------------------------------\n",
            "\u001b[1m1/1\u001b[0m \u001b[32m━━━━━━━━━━━━━━━━━━━━\u001b[0m\u001b[37m\u001b[0m \u001b[1m0s\u001b[0m 26ms/step\n",
            "Pertanyaan: Apa saja manfaat belajar bahasa asing?\n",
            "Parafrase yang diprediksi: apa saja mengapa yang yang\n",
            "Referensi: Apa keuntungan yang didapatkan dari belajar bahasa asing?\n",
            "BLEU score: 0.0351\n",
            "--------------------------------------------------\n",
            "\u001b[1m1/1\u001b[0m \u001b[32m━━━━━━━━━━━━━━━━━━━━\u001b[0m\u001b[37m\u001b[0m \u001b[1m0s\u001b[0m 22ms/step\n",
            "Pertanyaan: Mengapa olahraga penting bagi tubuh?\n",
            "Parafrase yang diprediksi: apa olahraga olahraga yang\n",
            "Referensi: Apa alasan olahraga sangat penting untuk kesehatan tubuh?\n",
            "BLEU score: 0.0351\n",
            "--------------------------------------------------\n",
            "\u001b[1m1/1\u001b[0m \u001b[32m━━━━━━━━━━━━━━━━━━━━\u001b[0m\u001b[37m\u001b[0m \u001b[1m0s\u001b[0m 34ms/step\n",
            "Pertanyaan: Apa itu ekonomi digital?\n",
            "Parafrase yang diprediksi: apa jantung mengapa cara\n",
            "Referensi: Bagaimana ekonomi digital memengaruhi kehidupan kita?\n",
            "BLEU score: 0.0000\n",
            "--------------------------------------------------\n",
            "\u001b[1m1/1\u001b[0m \u001b[32m━━━━━━━━━━━━━━━━━━━━\u001b[0m\u001b[37m\u001b[0m \u001b[1m0s\u001b[0m 28ms/step\n",
            "Pertanyaan: Apa yang dimaksud dengan kecerdasan buatan?\n",
            "Parafrase yang diprediksi: apa yang dimaksud untuk tubuh untuk\n",
            "Referensi: Apa itu AI dan bagaimana cara kerjanya?\n",
            "BLEU score: 0.0346\n",
            "--------------------------------------------------\n"
          ]
        }
      ]
    }
  ]
}